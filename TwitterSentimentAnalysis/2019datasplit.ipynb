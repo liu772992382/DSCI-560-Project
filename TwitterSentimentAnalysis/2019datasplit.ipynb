{
 "cells": [
  {
   "cell_type": "code",
   "execution_count": 1,
   "metadata": {},
   "outputs": [],
   "source": [
    "import datetime\n",
    "import pandas as pd\n",
    "import time\n",
    "import re"
   ]
  },
  {
   "cell_type": "code",
   "execution_count": 2,
   "metadata": {},
   "outputs": [
    {
     "name": "stdout",
     "output_type": "stream",
     "text": [
      "aapl\n",
      "goog\n",
      "amzn\n",
      "tsla\n",
      "msft\n",
      "nflx\n",
      "77.25242972373962\n"
     ]
    }
   ],
   "source": [
    "start = time.time()\n",
    "tweet = pd.read_csv('2019.csv', sep = ',')\n",
    "tweet = tweet[['time','text']]\n",
    "stocks = ['aapl', 'goog', 'amzn', 'tsla', 'msft', 'nflx']\n",
    "# stocks = ['aapl']\n",
    "for stock in stocks:\n",
    "    print(stock)\n",
    "    f = open(stock + '_Data.csv','w')\n",
    "    for i in range(len(tweet)):\n",
    "#         print(i,len(tweet['text'][i]))\n",
    "        if stock in tweet['text'][i].lower():\n",
    "#             times = tweet['time'][i].to_string(index = False)   \n",
    "            times = tweet['time'][i] \n",
    "#             text = tweet['text'].iloc[i:i+1].to_string(index = False, length = 400).replace(',',' ')\n",
    "            text = tweet['text'][i].replace(',',' ')\n",
    "\n",
    "            f.write(times + ',' + text + '\\n')            \n",
    "    f.close()\n",
    "stop = time.time()\n",
    "print(stop - start)"
   ]
  },
  {
   "cell_type": "code",
   "execution_count": null,
   "metadata": {},
   "outputs": [],
   "source": []
  }
 ],
 "metadata": {
  "kernelspec": {
   "display_name": "Python 3",
   "language": "python",
   "name": "python3"
  },
  "language_info": {
   "codemirror_mode": {
    "name": "ipython",
    "version": 3
   },
   "file_extension": ".py",
   "mimetype": "text/x-python",
   "name": "python",
   "nbconvert_exporter": "python",
   "pygments_lexer": "ipython3",
   "version": "3.7.4"
  }
 },
 "nbformat": 4,
 "nbformat_minor": 2
}
