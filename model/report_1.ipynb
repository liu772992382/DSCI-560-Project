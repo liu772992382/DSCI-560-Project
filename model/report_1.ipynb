{
 "cells": [
  {
   "cell_type": "code",
   "execution_count": 7,
   "id": "convenient-poverty",
   "metadata": {},
   "outputs": [],
   "source": [
    "import os\n",
    "import matplotlib.pyplot as plt\n",
    "import torch\n",
    "import torch.nn as nn\n",
    "import torch.optim as optim\n",
    "import numpy as np\n",
    "import pandas as pd\n",
    "\n",
    "from sklearn.preprocessing import MinMaxScaler\n",
    "from sklearn.model_selection import train_test_split\n",
    "from torch.utils.data import DataLoader,Dataset\n",
    "\n",
    "\n",
    "DAYS_FOR_TRAIN = 3\n",
    "FEATURE_SIZE = 6\n",
    "BATCH_SIZE = 32\n",
    "TEST_SIZE = 0.3\n",
    "DROPOUT_PROB = 0.2\n",
    "\n",
    "# torch.manual_seed(0)"
   ]
  },
  {
   "cell_type": "code",
   "execution_count": 17,
   "id": "infectious-chase",
   "metadata": {},
   "outputs": [],
   "source": [
    "def my_load_data(csv_file):\n",
    "    ori_data = pd.read_csv(csv_file)\n",
    "    \n",
    "#     extend_data = ta.add_all_ta_features(ori_data, open=\"Open\", high=\"High\", low=\"Low\", close=\"Close\", volume=\"Volume\", fillna=True)\n",
    "    \n",
    "    train_data, test_data = train_test_split(ori_data, test_size=TEST_SIZE, shuffle=False)\n",
    "    return train_data, test_data, ori_data\n",
    "\n",
    "\n",
    "class StockDataset(Dataset):\n",
    "    \"\"\"stock market dataset\"\"\"\n",
    "    \n",
    "    def __init__(self, dataset, days_for_train=5, feature_size=5, scaled=True, scaler=None):\n",
    "        self.days_for_train = days_for_train\n",
    "        self.feature_size = feature_size\n",
    "        self.ori_data = dataset\n",
    "\n",
    "        self.data = self.ori_data.iloc[:, 1:1+self.feature_size].values.astype(np.float32)\n",
    "\n",
    "        if scaled:\n",
    "            if scaler is None:\n",
    "                self.scaler = MinMaxScaler()\n",
    "                self.data = self.scaler.fit_transform(self.data).astype(np.float32)\n",
    "            else:\n",
    "                self.data = scaler.transform(self.data).astype(np.float32)\n",
    "                self.scaler = scaler\n",
    "        \n",
    "        self.x = self.data\n",
    "        self.y = self.data[:, 3]\n",
    "        \n",
    "\n",
    "    def __len__(self):\n",
    "        return self.data.shape[0] - self.days_for_train\n",
    "\n",
    "    \n",
    "    def __getitem__(self, idx):\n",
    "        x = self.x[idx:idx+self.days_for_train]\n",
    "        y = np.zeros((1), dtype=np.float32)\n",
    "\n",
    "        y[0] = self.y[idx+self.days_for_train]\n",
    "\n",
    "        t_x = torch.from_numpy(x)\n",
    "        t_y = torch.from_numpy(y)\n",
    "        return t_x, t_y\n",
    "    \n",
    "    def get_scaler(self):\n",
    "        return self.scaler\n",
    "\n",
    "\n",
    "class LSTM_Regression(nn.Module):\n",
    "    \"\"\"\n",
    "        使用LSTM进行回归\n",
    "        \n",
    "        参数：\n",
    "        - input_size: feature size\n",
    "        - hidden_size: number of hidden units\n",
    "        - output_size: number of output\n",
    "        - num_layers: layers of LSTM to stack\n",
    "    \"\"\"\n",
    "    def __init__(self, input_size, hidden_size, output_size=1, num_layers=2):\n",
    "        super().__init__()\n",
    "\n",
    "        self.fc0 = nn.Linear(input_size, input_size)\n",
    "        self.lstm = nn.LSTM(input_size, hidden_size, num_layers, dropout=DROPOUT_PROB)\n",
    "        self.fc = nn.Linear(hidden_size, output_size)\n",
    "        self.fc2 = nn.Linear(DAYS_FOR_TRAIN, output_size)\n",
    "\n",
    "    def forward(self, _x):\n",
    "        out0 = self.fc0(_x)\n",
    "        x, _ = self.lstm(out0)  # _x is input, size (seq_len, batch, input_size)\n",
    "        s, b, h = x.shape  # x is output, size (seq_len, batch, hidden_size)\n",
    "        x = x.view(s*b, h)\n",
    "        out1 = self.fc(x)\n",
    "        out1 = out1.view(s, b)  # 把形状改回来\n",
    "        out1 = out1.transpose(0, 1)\n",
    "#         print('out1', out1.shape)\n",
    "        out2 = self.fc2(out1)\n",
    "        # print(out2.shape)\n",
    "        # out2 = out2.view(b, -1)\n",
    "        return out2\n",
    "    \n",
    "\n",
    "def my_train(train_dataset):\n",
    "#     print(train_dataset)\n",
    "    data = StockDataset(train_dataset, DAYS_FOR_TRAIN, FEATURE_SIZE)\n",
    "    D = DataLoader(dataset=data, batch_size=BATCH_SIZE)\n",
    "\n",
    "    model = LSTM_Regression(FEATURE_SIZE, 8, output_size=1, num_layers=2)\n",
    "\n",
    "    loss_function = nn.MSELoss()\n",
    "    optimizer = torch.optim.Adam(model.parameters(), lr=1e-3)\n",
    "\n",
    "    for epoch in range(500):       \n",
    "        for i, (x, y) in enumerate(D):\n",
    "#             print(x.shape, y.shape)\n",
    "            x = x.transpose(0, 1)\n",
    "#             x.transpose(1, 2)\n",
    "            pred_y = model(x)\n",
    "#             print('pred_y: ', pred_y.shape)\n",
    "            loss = loss_function(pred_y, y)\n",
    "\n",
    "            loss.backward()\n",
    "            optimizer.step()\n",
    "            optimizer.zero_grad()\n",
    "\n",
    "        # out = model(train_x)\n",
    "        # loss = loss_function(out, train_y)\n",
    "\n",
    "        # loss.backward()\n",
    "        # optimizer.step()\n",
    "        # optimizer.zero_grad()\n",
    "\n",
    "        if (epoch+1) % 20 == 0:\n",
    "            print('Epoch: {}, Loss:{:.5f}'.format(epoch+1, loss.item()))\n",
    "    \n",
    "    return model, data.scaler\n"
   ]
  },
  {
   "cell_type": "code",
   "execution_count": 18,
   "id": "published-assistant",
   "metadata": {},
   "outputs": [],
   "source": [
    "train_dataset, test_dataset, ori_dataset = my_load_data('data/AAPL.csv')"
   ]
  },
  {
   "cell_type": "code",
   "execution_count": 19,
   "id": "flush-tracker",
   "metadata": {
    "scrolled": true
   },
   "outputs": [
    {
     "name": "stdout",
     "output_type": "stream",
     "text": [
      "Epoch: 20, Loss:0.19729\n",
      "Epoch: 40, Loss:0.10810\n",
      "Epoch: 60, Loss:0.01670\n",
      "Epoch: 80, Loss:0.01217\n",
      "Epoch: 100, Loss:0.00935\n",
      "Epoch: 120, Loss:0.00775\n",
      "Epoch: 140, Loss:0.00791\n",
      "Epoch: 160, Loss:0.00814\n",
      "Epoch: 180, Loss:0.00779\n",
      "Epoch: 200, Loss:0.00399\n",
      "Epoch: 220, Loss:0.00440\n",
      "Epoch: 240, Loss:0.00518\n",
      "Epoch: 260, Loss:0.00451\n",
      "Epoch: 280, Loss:0.00364\n",
      "Epoch: 300, Loss:0.00349\n",
      "Epoch: 320, Loss:0.00562\n",
      "Epoch: 340, Loss:0.00397\n",
      "Epoch: 360, Loss:0.00336\n",
      "Epoch: 380, Loss:0.00291\n",
      "Epoch: 400, Loss:0.00384\n",
      "Epoch: 420, Loss:0.00427\n",
      "Epoch: 440, Loss:0.00312\n",
      "Epoch: 460, Loss:0.00313\n",
      "Epoch: 480, Loss:0.00574\n",
      "Epoch: 500, Loss:0.00551\n"
     ]
    }
   ],
   "source": [
    "trained_model, train_scaler = my_train(train_dataset)"
   ]
  },
  {
   "cell_type": "code",
   "execution_count": 20,
   "id": "fitting-washington",
   "metadata": {},
   "outputs": [],
   "source": [
    "def my_test(model, test_dataset, train_scaler):\n",
    "    model.eval()\n",
    "    loss_function = nn.MSELoss()\n",
    "\n",
    "    test_data = StockDataset(test_dataset, DAYS_FOR_TRAIN, FEATURE_SIZE, True, train_scaler)\n",
    "    test_D = DataLoader(dataset=test_data, batch_size=1)\n",
    "\n",
    "    all_loss = []\n",
    "    preds = []\n",
    "    targets = []\n",
    "\n",
    "    for i, (test_x, test_y) in enumerate(test_D):\n",
    "        test_x = test_x.transpose(0, 1)\n",
    "        pred_y = model(test_x)\n",
    "#         print(test_y)\n",
    "#         print(type(pred_y), type(test_y))\n",
    "        preds.extend(pred_y.detach().numpy())\n",
    "        targets.extend(test_y.detach().numpy())\n",
    "\n",
    "        test_loss = loss_function(pred_y, test_y)\n",
    "        all_loss.append(test_loss)\n",
    "#         print(test_loss)\n",
    "\n",
    "    print('test loss: %.5f' % (sum(all_loss)))\n",
    "    \n",
    "    train_size = len(test_data) * (1 - TEST_SIZE)\n",
    "    plt.plot(preds, 'r', label='prediction')\n",
    "    plt.plot(targets, 'b', label='real')\n",
    "    plt.plot((train_size, train_size), (-0.1, 1.5), 'g--')\n",
    "    plt.savefig('result_img/result.png', format='png', dpi=200)\n",
    "    plt.show()"
   ]
  },
  {
   "cell_type": "code",
   "execution_count": 21,
   "id": "numeric-spray",
   "metadata": {},
   "outputs": [
    {
     "name": "stdout",
     "output_type": "stream",
     "text": [
      "test loss: 1.46547\n"
     ]
    },
    {
     "data": {
      "image/png": "[encoded data removed]",
      "text/plain": [
       "<Figure size 432x288 with 1 Axes>"
      ]
     },
     "metadata": {
      "needs_background": "light"
     },
     "output_type": "display_data"
    }
   ],
   "source": [
    "my_test(trained_model, ori_dataset, train_scaler)"
   ]
  },
  {
   "cell_type": "code",
   "execution_count": null,
   "id": "laughing-reach",
   "metadata": {},
   "outputs": [],
   "source": []
  },
  {
   "cell_type": "code",
   "execution_count": null,
   "id": "finished-superintendent",
   "metadata": {},
   "outputs": [],
   "source": []
  }
 ],
 "metadata": {
  "kernelspec": {
   "display_name": "Python 3",
   "language": "python",
   "name": "python3"
  },
  "language_info": {
   "codemirror_mode": {
    "name": "ipython",
    "version": 3
   },
   "file_extension": ".py",
   "mimetype": "text/x-python",
   "name": "python",
   "nbconvert_exporter": "python",
   "pygments_lexer": "ipython3",
   "version": "3.8.2"
  }
 },
 "nbformat": 4,
 "nbformat_minor": 5
}
