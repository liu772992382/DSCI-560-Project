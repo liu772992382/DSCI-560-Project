{
 "cells": [
  {
   "cell_type": "code",
   "execution_count": 10,
   "metadata": {},
   "outputs": [],
   "source": [
    "import os\n",
    "import matplotlib.pyplot as plt\n",
    "import torch\n",
    "import torch.nn as nn\n",
    "import torch.optim as optim\n",
    "import torch.nn.functional as F\n",
    "import numpy as np\n",
    "import pandas as pd\n",
    "import ta\n",
    "\n",
    "from sklearn.preprocessing import MinMaxScaler\n",
    "from sklearn.model_selection import train_test_split\n",
    "from sklearn.metrics import mean_absolute_error, mean_squared_error\n",
    "from torch.utils.data import DataLoader,Dataset\n",
    "\n",
    "\n",
    "DAYS_FOR_TRAIN = 3\n",
    "FEATURE_SIZE = 10\n",
    "BATCH_SIZE = 32\n",
    "TEST_SIZE = 0.3\n",
    "DROPOUT_PROB = 0\n",
    "\n",
    "with_sent = True\n",
    "\n",
    "# selected_ft = [1, 2, 3, 4, 5, 6, 7, 59, 28, 44, 21, 34, 35, 27, 17, 19, 16, 26, 69, 90, 45, 60, 20, 62, 38, 68, 30]\n",
    "if with_sent:\n",
    "    selected_ft = [1, 2, 3, 4, 5, 6, 7, 59, 28, 44, 21, 34, 35, 27, 17, 19, 16, 26, 69, 90, 45, 60, 20, 62, 38, 68, 30] # with sent\n",
    "else:\n",
    "    selected_ft = [1, 2, 3, 4, 5, 57, 26, 42, 19, 32, 33, 25, 15, 17, 14, 24, 67, 88, 43, 58, 18, 60, 36, 66, 28] \n",
    "    \n",
    "selected_ft = selected_ft[:FEATURE_SIZE]\n",
    "\n"
   ]
  },
  {
   "cell_type": "code",
   "execution_count": 2,
   "metadata": {},
   "outputs": [],
   "source": [
    "def my_load_data(csv_file):\n",
    "    ori_data = pd.read_csv(csv_file)\n",
    "    \n",
    "    extend_data = ta.add_all_ta_features(ori_data, open=\"Open\", high=\"High\", low=\"Low\", close=\"Close\", volume=\"Volume\", fillna=True)\n",
    "    \n",
    "    train_data, test_data = train_test_split(extend_data, test_size=TEST_SIZE, shuffle=False)\n",
    "    return train_data, test_data, ori_data\n",
    "\n",
    "\n",
    "class StockDataset(Dataset):\n",
    "    \"\"\"stock market dataset\"\"\"\n",
    "    \n",
    "    def __init__(self, dataset, days_for_train=5, feature_size=5, scaled=True, scaler=None):\n",
    "        self.days_for_train = days_for_train\n",
    "        self.feature_size = feature_size\n",
    "        self.ori_data = dataset\n",
    "\n",
    "        self.data = self.ori_data.iloc[:, selected_ft].values.astype(np.float32)\n",
    "#         print(self.data)\n",
    "        if scaled:\n",
    "            if scaler is None:\n",
    "                self.scaler = MinMaxScaler()\n",
    "                self.data = self.scaler.fit_transform(self.data).astype(np.float32)\n",
    "            else:\n",
    "                self.data = scaler.transform(self.data).astype(np.float32)\n",
    "                self.scaler = scaler\n",
    "        \n",
    "        self.x = self.data\n",
    "        self.y = self.data[:, 3]\n",
    "        \n",
    "        \n",
    "\n",
    "    def __len__(self):\n",
    "        return self.data.shape[0] - self.days_for_train\n",
    "\n",
    "    \n",
    "    def __getitem__(self, idx):\n",
    "        x = self.x[idx:idx+self.days_for_train]\n",
    "        y = np.zeros((1), dtype=np.float32)\n",
    "\n",
    "        y[0] = self.y[idx+self.days_for_train]\n",
    "\n",
    "        t_x = torch.from_numpy(x)\n",
    "        t_y = torch.from_numpy(y)\n",
    "        return t_x, t_y\n",
    "    \n",
    "    def get_scaler(self):\n",
    "        return self.scaler\n",
    "\n",
    "\n",
    "class BaseLSTM_Regression(nn.Module):\n",
    "    \"\"\"\n",
    "        使用LSTM进行回归\n",
    "        \n",
    "        参数：\n",
    "        - input_size: feature size\n",
    "        - hidden_size: number of hidden units\n",
    "        - output_size: number of output\n",
    "        - num_layers: layers of LSTM to stack\n",
    "    \"\"\"\n",
    "    def __init__(self, input_size, hidden_size, output_size=1, num_layers=2):\n",
    "        super().__init__()\n",
    "\n",
    "        self.fc0 = nn.Linear(input_size, input_size)\n",
    "        self.lstm = nn.LSTM(input_size, hidden_size, num_layers, dropout=DROPOUT_PROB)\n",
    "        self.fc = nn.Linear(hidden_size, output_size)\n",
    "        self.fc2 = nn.Linear(DAYS_FOR_TRAIN, output_size)\n",
    "\n",
    "    def forward(self, _x):\n",
    "        out0 = self.fc0(_x)\n",
    "        x, _ = self.lstm(out0)  # _x is input, size (seq_len, batch, input_size)\n",
    "        s, b, h = x.shape  # x is output, size (seq_len, batch, hidden_size)\n",
    "        x = x.view(s*b, h)\n",
    "        out1 = self.fc(x)\n",
    "        out1 = out1.view(s, b)  # 把形状改回来\n",
    "        out1 = out1.transpose(0, 1)\n",
    "#         print('out1', out1.shape)\n",
    "        out2 = self.fc2(out1)\n",
    "        # print(out2.shape)\n",
    "        # out2 = out2.view(b, -1)\n",
    "        return out2\n",
    "    \n",
    "\n",
    "class LSTM_Regression(nn.Module):\n",
    "    \"\"\"\n",
    "        使用LSTM进行回归\n",
    "        \n",
    "        参数：\n",
    "        - input_size: feature size\n",
    "        - hidden_size: number of hidden units\n",
    "        - output_size: number of output\n",
    "        - num_layers: layers of LSTM to stack\n",
    "    \"\"\"\n",
    "    def __init__(self, input_size, hidden_size, output_size=1, num_layers=2):\n",
    "        super().__init__()\n",
    "\n",
    "#         self.fc0 = nn.Linear(input_size, input_size)\n",
    "        self.lstm = nn.LSTM(input_size, hidden_size, num_layers, dropout=DROPOUT_PROB)\n",
    "        self.fc = nn.Linear(hidden_size, output_size)\n",
    "        self.fc2 = nn.Linear(DAYS_FOR_TRAIN, output_size)\n",
    "#         self.out_fc = nn.Linear()\n",
    "\n",
    "        self.dropout = nn.Dropout(DROPOUT_PROB)\n",
    "\n",
    "        \n",
    "    def attention_net(self, x, query, mask=None):\n",
    "        d_k = query.size(-1)\n",
    "        \n",
    "        scores = torch.matmul(query, x.transpose(1, 2)) / np.sqrt(d_k)\n",
    "        \n",
    "        alpha_n = F.softmax(scores, dim=-1)\n",
    "        \n",
    "        context = torch.matmul(alpha_n, x).sum(1)\n",
    "        \n",
    "        return context, alpha_n\n",
    "        \n",
    "        \n",
    "    def forward(self, _x):\n",
    "#         out0 = self.fc0(_x)\n",
    "        x, _ = self.lstm(_x)  # _x is input, size (seq_len, batch, input_size)\n",
    "#         print(x.shape)\n",
    "        x = x.permute(1, 0, 2)\n",
    "#         print(x.shape)\n",
    "        query = self.dropout(x)\n",
    "        x, _ = self.attention_net(x, query)\n",
    "    \n",
    "#         print(x.shape)\n",
    "#         s, b, h = x.shape  # x is output, size (seq_len, batch, hidden_size)\n",
    "        \n",
    "        \n",
    "#         x = x.view(s*b, h)\n",
    "        out1 = self.fc(x)\n",
    "#         out1 = out1.view(s, b)  # 把形状改回来\n",
    "#         out1 = out1.transpose(0, 1)\n",
    "#         print('out1', out1.shape)\n",
    "#         out2 = self.fc2(out1)\n",
    "        # print(out2.shape)\n",
    "        return out1\n",
    "    \n",
    "\n",
    "def my_train(train_dataset):\n",
    "#     print(train_dataset)\n",
    "    data = StockDataset(train_dataset, DAYS_FOR_TRAIN, FEATURE_SIZE)\n",
    "    D = DataLoader(dataset=data, batch_size=BATCH_SIZE)\n",
    "\n",
    "    model = LSTM_Regression(FEATURE_SIZE, 8, output_size=1, num_layers=2)\n",
    "\n",
    "    loss_function = nn.MSELoss()\n",
    "    optimizer = torch.optim.Adam(model.parameters(), lr=1e-3)\n",
    "\n",
    "    for epoch in range(700):       \n",
    "        for i, (x, y) in enumerate(D):\n",
    "#             print(x.shape, y.shape)\n",
    "            x = x.transpose(0, 1)\n",
    "#             x.transpose(1, 2)\n",
    "            pred_y = model(x)\n",
    "#             print('pred_y: ', pred_y.shape)\n",
    "            loss = loss_function(pred_y, y)\n",
    "\n",
    "            loss.backward()\n",
    "            optimizer.step()\n",
    "            optimizer.zero_grad()\n",
    "\n",
    "        # out = model(train_x)\n",
    "        # loss = loss_function(out, train_y)\n",
    "\n",
    "        # loss.backward()\n",
    "        # optimizer.step()\n",
    "        # optimizer.zero_grad()\n",
    "\n",
    "        if (epoch+1) % 100 == 0:\n",
    "            print('Epoch: {}, Loss:{:.5f}'.format(epoch+1, loss.item()))\n",
    "    \n",
    "    return model, data.scaler\n"
   ]
  },
  {
   "cell_type": "code",
   "execution_count": 3,
   "metadata": {},
   "outputs": [],
   "source": [
    "def my_test(model, test_dataset, train_scaler, output_file):\n",
    "    model.eval()\n",
    "    loss_function = nn.MSELoss()\n",
    "\n",
    "    test_data = StockDataset(test_dataset, DAYS_FOR_TRAIN, FEATURE_SIZE, True, train_scaler)\n",
    "    test_D = DataLoader(dataset=test_data, batch_size=1)\n",
    "\n",
    "    all_rmse = []\n",
    "    all_mae = []\n",
    "    preds = []\n",
    "    targets = []\n",
    "    \n",
    "    ori_preds = []\n",
    "    ori_targets = []\n",
    "    \n",
    "\n",
    "    for i, (test_x, test_y) in enumerate(test_D):\n",
    "        test_x = test_x.transpose(0, 1)\n",
    "#         test_x = test_x.to(device)\n",
    "        pred_y = model(test_x)\n",
    "#         print(test_y)\n",
    "#         print(type(pred_y), type(test_y))\n",
    "#         pred_y = pred_y.cpu()\n",
    "        tmp_pred_y = pred_y.detach().numpy()[0][0]\n",
    "        tmp_test_y = test_y.detach().numpy()[0][0]\n",
    "        \n",
    "#         print(tmp_pred_y)\n",
    "        preds.append(tmp_pred_y)\n",
    "        targets.append(tmp_test_y)\n",
    "        \n",
    "        ori_test_y = (tmp_test_y - train_scaler.min_[3]) / train_scaler.scale_[3]\n",
    "        ori_pred_y = (tmp_pred_y - train_scaler.min_[3]) / train_scaler.scale_[3]\n",
    "        \n",
    "        \n",
    "        ori_preds.append(ori_pred_y)\n",
    "        ori_targets.append(ori_test_y)\n",
    "\n",
    "#         rmse = loss_function(test_y, pred_y)\n",
    "#         all_rmse.append(rmse)\n",
    "        \n",
    "#         mae = mean_absolute_error(tmp_test_y, tmp_pred_y)\n",
    "#         all_mae.append(mae)\n",
    "    \n",
    "#         print(test_loss)\n",
    "\n",
    "    print('mse: %.5f' % (mean_squared_error(targets, preds)))\n",
    "    print('ori mse: %.5f' % (mean_squared_error(ori_targets, ori_preds)))\n",
    "    \n",
    "    print('ori mae: %.5f' % (mean_absolute_error(ori_targets, ori_preds)))\n",
    "    \n",
    "#     print('test rmse: %.5f' % (sum(all_rmse)))\n",
    "#     print('test mae: %.5f' % (sum(all_mae)))\n",
    "    \n",
    "    train_size = len(test_data) * (1 - TEST_SIZE)\n",
    "    plt.plot(preds, 'r', label='prediction')\n",
    "    plt.plot(targets, 'b', label='real')\n",
    "    plt.grid()\n",
    "    plt.legend()\n",
    "    plt.plot((train_size, train_size), (-0.1, 1.5), 'g--')\n",
    "    plt.savefig(output_file, format='png', dpi=200)\n",
    "    plt.show()\n",
    "    \n",
    "    return ori_preds, ori_targets"
   ]
  },
  {
   "cell_type": "code",
   "execution_count": 7,
   "metadata": {},
   "outputs": [],
   "source": [
    "def my_eval(comp, with_sent):\n",
    "    csv_file = f'data/sentiments/{comp}_sent.csv' if with_sent else f'data/{comp}_ori.csv'\n",
    "    train_dataset, test_dataset, ori_dataset = my_load_data(csv_file)\n",
    "    # train_dataset, test_dataset, ori_dataset = my_load_data('data/AAPL.csv')\n",
    "    trained_model, train_scaler = my_train(train_dataset)\n",
    "\n",
    "    my_test(trained_model, test_dataset, train_scaler, f'result_img/{comp}_test_result{\"_sent\" if with_sent else \"\"}.png')\n",
    "    ori_preds, ori_targets = my_test(trained_model, ori_dataset, train_scaler, f'result_img/{comp}_result{\"_sent\" if with_sent else \"\"}.png')\n",
    "    \n",
    "    pred_df, tgt_df = data2df(ori_preds, ori_targets, ori_dataset)\n",
    "    pred_df.to_csv(f'output/{comp}_pred{\"_sent\" if with_sent else \"\"}.csv', index=False)\n",
    "    tgt_df.to_csv(f'output/{comp}_tgt{\"_sent\" if with_sent else \"\"}.csv', index=False)"
   ]
  },
  {
   "cell_type": "code",
   "execution_count": 8,
   "metadata": {},
   "outputs": [],
   "source": [
    "def data2df(ori_preds, ori_targets, ori_dataset):\n",
    "    out_preds = []\n",
    "    out_tgts = []\n",
    "    for i in range(len(ori_preds)):\n",
    "        out_preds.append(ori_preds[i])\n",
    "        out_tgts.append(ori_targets[i])\n",
    "\n",
    "    out_preds_df = pd.DataFrame()\n",
    "    out_preds_df['Date'] = ori_dataset['Date'][3:].values\n",
    "    out_preds_df['Close'] = out_preds\n",
    "\n",
    "\n",
    "\n",
    "    out_tgts_df = pd.DataFrame()\n",
    "    out_tgts_df['Date'] = ori_dataset['Date'][3:].values\n",
    "    out_tgts_df['Close'] = out_tgts\n",
    "    \n",
    "    return out_preds_df, out_tgts_df"
   ]
  },
  {
   "cell_type": "code",
   "execution_count": null,
   "metadata": {},
   "outputs": [],
   "source": []
  },
  {
   "cell_type": "code",
   "execution_count": null,
   "metadata": {},
   "outputs": [],
   "source": []
  },
  {
   "cell_type": "markdown",
   "metadata": {},
   "source": [
    "## evaluation"
   ]
  },
  {
   "cell_type": "code",
   "execution_count": 11,
   "metadata": {},
   "outputs": [
    {
     "name": "stderr",
     "output_type": "stream",
     "text": [
      "C:\\Users\\Liu\\anaconda3\\lib\\site-packages\\ta\\trend.py:768: RuntimeWarning: invalid value encountered in double_scalars\n",
      "  dip[i] = 100 * (self._dip[i] / self._trs[i])\n",
      "C:\\Users\\Liu\\anaconda3\\lib\\site-packages\\ta\\trend.py:772: RuntimeWarning: invalid value encountered in double_scalars\n",
      "  din[i] = 100 * (self._din[i] / self._trs[i])\n"
     ]
    },
    {
     "name": "stdout",
     "output_type": "stream",
     "text": [
      "Epoch: 100, Loss:0.00429\n",
      "Epoch: 200, Loss:0.00364\n",
      "Epoch: 300, Loss:0.00301\n",
      "Epoch: 400, Loss:0.00274\n",
      "Epoch: 500, Loss:0.00305\n",
      "Epoch: 600, Loss:0.00222\n",
      "Epoch: 700, Loss:0.00246\n",
      "mse: 0.00236\n",
      "ori mse: 14.51784\n",
      "ori mae: 2.95408\n"
     ]
    },
    {
     "data": {
      "image/png": "[encoded data removed]",
      "text/plain": [
       "<Figure size 432x288 with 1 Axes>"
      ]
     },
     "metadata": {
      "needs_background": "light"
     },
     "output_type": "display_data"
    },
    {
     "name": "stdout",
     "output_type": "stream",
     "text": [
      "mse: 0.00103\n",
      "ori mse: 6.34050\n",
      "ori mae: 1.67854\n"
     ]
    },
    {
     "data": {
      "image/png": "[encoded data removed]",
      "text/plain": [
       "<Figure size 432x288 with 1 Axes>"
      ]
     },
     "metadata": {
      "needs_background": "light"
     },
     "output_type": "display_data"
    }
   ],
   "source": [
    "my_eval('aapl', with_sent)"
   ]
  },
  {
   "cell_type": "code",
   "execution_count": null,
   "metadata": {},
   "outputs": [],
   "source": []
  },
  {
   "cell_type": "code",
   "execution_count": null,
   "metadata": {},
   "outputs": [],
   "source": []
  },
  {
   "cell_type": "code",
   "execution_count": null,
   "metadata": {},
   "outputs": [],
   "source": []
  },
  {
   "cell_type": "code",
   "execution_count": 7,
   "metadata": {},
   "outputs": [
    {
     "name": "stdout",
     "output_type": "stream",
     "text": [
      "aapl\n"
     ]
    },
    {
     "name": "stderr",
     "output_type": "stream",
     "text": [
      "C:\\Users\\Liu\\anaconda3\\lib\\site-packages\\ta\\trend.py:768: RuntimeWarning: invalid value encountered in double_scalars\n",
      "  dip[i] = 100 * (self._dip[i] / self._trs[i])\n",
      "C:\\Users\\Liu\\anaconda3\\lib\\site-packages\\ta\\trend.py:772: RuntimeWarning: invalid value encountered in double_scalars\n",
      "  din[i] = 100 * (self._din[i] / self._trs[i])\n"
     ]
    },
    {
     "name": "stdout",
     "output_type": "stream",
     "text": [
      "Epoch: 100, Loss:0.00469\n",
      "Epoch: 200, Loss:0.00315\n",
      "Epoch: 300, Loss:0.00254\n",
      "Epoch: 400, Loss:0.00220\n",
      "Epoch: 500, Loss:0.00179\n",
      "Epoch: 600, Loss:0.00132\n",
      "Epoch: 700, Loss:0.00109\n",
      "mse: 0.00124\n",
      "ori mse: 13.27203\n",
      "ori mae: 2.87170\n"
     ]
    },
    {
     "data": {
      "image/png": "[encoded data removed]",
      "text/plain": [
       "<Figure size 432x288 with 1 Axes>"
      ]
     },
     "metadata": {
      "needs_background": "light"
     },
     "output_type": "display_data"
    },
    {
     "name": "stdout",
     "output_type": "stream",
     "text": [
      "mse: 0.00061\n",
      "ori mse: 6.54731\n",
      "ori mae: 1.81361\n"
     ]
    },
    {
     "data": {
      "image/png": "[encoded data removed]",
      "text/plain": [
       "<Figure size 432x288 with 1 Axes>"
      ]
     },
     "metadata": {
      "needs_background": "light"
     },
     "output_type": "display_data"
    },
    {
     "name": "stdout",
     "output_type": "stream",
     "text": [
      "amzn\n"
     ]
    },
    {
     "name": "stderr",
     "output_type": "stream",
     "text": [
      "C:\\Users\\Liu\\anaconda3\\lib\\site-packages\\ta\\trend.py:768: RuntimeWarning: invalid value encountered in double_scalars\n",
      "  dip[i] = 100 * (self._dip[i] / self._trs[i])\n",
      "C:\\Users\\Liu\\anaconda3\\lib\\site-packages\\ta\\trend.py:772: RuntimeWarning: invalid value encountered in double_scalars\n",
      "  din[i] = 100 * (self._din[i] / self._trs[i])\n"
     ]
    },
    {
     "name": "stdout",
     "output_type": "stream",
     "text": [
      "Epoch: 100, Loss:0.00229\n",
      "Epoch: 200, Loss:0.00217\n",
      "Epoch: 300, Loss:0.00185\n",
      "Epoch: 400, Loss:0.00159\n",
      "Epoch: 500, Loss:0.00141\n",
      "Epoch: 600, Loss:0.00148\n",
      "Epoch: 700, Loss:0.00168\n",
      "mse: 0.00119\n",
      "ori mse: 4921.07227\n",
      "ori mae: 57.38719\n"
     ]
    },
    {
     "data": {
      "image/png": "[encoded data removed]",
      "text/plain": [
       "<Figure size 432x288 with 1 Axes>"
      ]
     },
     "metadata": {
      "needs_background": "light"
     },
     "output_type": "display_data"
    },
    {
     "name": "stdout",
     "output_type": "stream",
     "text": [
      "mse: 0.00082\n",
      "ori mse: 3392.47266\n",
      "ori mae: 42.33946\n"
     ]
    },
    {
     "data": {
      "image/png": "[encoded data removed]",
      "text/plain": [
       "<Figure size 432x288 with 1 Axes>"
      ]
     },
     "metadata": {
      "needs_background": "light"
     },
     "output_type": "display_data"
    },
    {
     "name": "stdout",
     "output_type": "stream",
     "text": [
      "goog\n"
     ]
    },
    {
     "name": "stderr",
     "output_type": "stream",
     "text": [
      "C:\\Users\\Liu\\anaconda3\\lib\\site-packages\\ta\\trend.py:768: RuntimeWarning: invalid value encountered in double_scalars\n",
      "  dip[i] = 100 * (self._dip[i] / self._trs[i])\n",
      "C:\\Users\\Liu\\anaconda3\\lib\\site-packages\\ta\\trend.py:772: RuntimeWarning: invalid value encountered in double_scalars\n",
      "  din[i] = 100 * (self._din[i] / self._trs[i])\n"
     ]
    },
    {
     "name": "stdout",
     "output_type": "stream",
     "text": [
      "Epoch: 100, Loss:0.00530\n",
      "Epoch: 200, Loss:0.00392\n",
      "Epoch: 300, Loss:0.00320\n",
      "Epoch: 400, Loss:0.00267\n",
      "Epoch: 500, Loss:0.00221\n",
      "Epoch: 600, Loss:0.00191\n",
      "Epoch: 700, Loss:0.00171\n",
      "mse: 0.00180\n",
      "ori mse: 1408.07117\n",
      "ori mae: 29.01791\n"
     ]
    },
    {
     "data": {
      "image/png": "[encoded data removed]",
      "text/plain": [
       "<Figure size 432x288 with 1 Axes>"
      ]
     },
     "metadata": {
      "needs_background": "light"
     },
     "output_type": "display_data"
    },
    {
     "name": "stdout",
     "output_type": "stream",
     "text": [
      "mse: 0.00096\n",
      "ori mse: 750.50903\n",
      "ori mae: 19.56575\n"
     ]
    },
    {
     "data": {
      "image/png": "[encoded data removed]",
      "text/plain": [
       "<Figure size 432x288 with 1 Axes>"
      ]
     },
     "metadata": {
      "needs_background": "light"
     },
     "output_type": "display_data"
    },
    {
     "name": "stdout",
     "output_type": "stream",
     "text": [
      "msft\n"
     ]
    },
    {
     "name": "stderr",
     "output_type": "stream",
     "text": [
      "C:\\Users\\Liu\\anaconda3\\lib\\site-packages\\ta\\trend.py:768: RuntimeWarning: invalid value encountered in double_scalars\n",
      "  dip[i] = 100 * (self._dip[i] / self._trs[i])\n",
      "C:\\Users\\Liu\\anaconda3\\lib\\site-packages\\ta\\trend.py:772: RuntimeWarning: invalid value encountered in double_scalars\n",
      "  din[i] = 100 * (self._din[i] / self._trs[i])\n"
     ]
    },
    {
     "name": "stdout",
     "output_type": "stream",
     "text": [
      "Epoch: 100, Loss:0.00295\n",
      "Epoch: 200, Loss:0.00265\n",
      "Epoch: 300, Loss:0.00231\n",
      "Epoch: 400, Loss:0.00200\n",
      "Epoch: 500, Loss:0.00163\n",
      "Epoch: 600, Loss:0.00339\n",
      "Epoch: 700, Loss:0.00255\n",
      "mse: 0.00381\n",
      "ori mse: 68.60694\n",
      "ori mae: 6.98427\n"
     ]
    },
    {
     "data": {
      "image/png": "[encoded data removed]",
      "text/plain": [
       "<Figure size 432x288 with 1 Axes>"
      ]
     },
     "metadata": {
      "needs_background": "light"
     },
     "output_type": "display_data"
    },
    {
     "name": "stdout",
     "output_type": "stream",
     "text": [
      "mse: 0.00171\n",
      "ori mse: 30.87317\n",
      "ori mae: 4.65940\n"
     ]
    },
    {
     "data": {
      "image/png": "[encoded data removed]",
      "text/plain": [
       "<Figure size 432x288 with 1 Axes>"
      ]
     },
     "metadata": {
      "needs_background": "light"
     },
     "output_type": "display_data"
    },
    {
     "name": "stdout",
     "output_type": "stream",
     "text": [
      "nflx\n"
     ]
    },
    {
     "name": "stderr",
     "output_type": "stream",
     "text": [
      "C:\\Users\\Liu\\anaconda3\\lib\\site-packages\\ta\\trend.py:768: RuntimeWarning: invalid value encountered in double_scalars\n",
      "  dip[i] = 100 * (self._dip[i] / self._trs[i])\n",
      "C:\\Users\\Liu\\anaconda3\\lib\\site-packages\\ta\\trend.py:772: RuntimeWarning: invalid value encountered in double_scalars\n",
      "  din[i] = 100 * (self._din[i] / self._trs[i])\n"
     ]
    },
    {
     "name": "stdout",
     "output_type": "stream",
     "text": [
      "Epoch: 100, Loss:0.02338\n",
      "Epoch: 200, Loss:0.01916\n",
      "Epoch: 300, Loss:0.01703\n",
      "Epoch: 400, Loss:0.01639\n",
      "Epoch: 500, Loss:0.01482\n",
      "Epoch: 600, Loss:0.01349\n",
      "Epoch: 700, Loss:0.01321\n",
      "mse: 0.00137\n",
      "ori mse: 151.14265\n",
      "ori mae: 9.53512\n"
     ]
    },
    {
     "data": {
      "image/png": "[encoded data removed]",
      "text/plain": [
       "<Figure size 432x288 with 1 Axes>"
      ]
     },
     "metadata": {
      "needs_background": "light"
     },
     "output_type": "display_data"
    },
    {
     "name": "stdout",
     "output_type": "stream",
     "text": [
      "mse: 0.00124\n",
      "ori mse: 136.79645\n",
      "ori mae: 8.35276\n"
     ]
    },
    {
     "data": {
      "image/png": "[encoded data removed]",
      "text/plain": [
       "<Figure size 432x288 with 1 Axes>"
      ]
     },
     "metadata": {
      "needs_background": "light"
     },
     "output_type": "display_data"
    },
    {
     "name": "stdout",
     "output_type": "stream",
     "text": [
      "tsla\n"
     ]
    },
    {
     "name": "stderr",
     "output_type": "stream",
     "text": [
      "C:\\Users\\Liu\\anaconda3\\lib\\site-packages\\ta\\trend.py:768: RuntimeWarning: invalid value encountered in double_scalars\n",
      "  dip[i] = 100 * (self._dip[i] / self._trs[i])\n",
      "C:\\Users\\Liu\\anaconda3\\lib\\site-packages\\ta\\trend.py:772: RuntimeWarning: invalid value encountered in double_scalars\n",
      "  din[i] = 100 * (self._din[i] / self._trs[i])\n"
     ]
    },
    {
     "name": "stdout",
     "output_type": "stream",
     "text": [
      "Epoch: 100, Loss:0.00001\n",
      "Epoch: 200, Loss:0.00167\n",
      "Epoch: 300, Loss:0.00137\n",
      "Epoch: 400, Loss:0.00108\n",
      "Epoch: 500, Loss:0.00095\n",
      "Epoch: 600, Loss:0.00087\n",
      "Epoch: 700, Loss:0.00080\n",
      "mse: 0.00383\n",
      "ori mse: 2728.01343\n",
      "ori mae: 39.87687\n"
     ]
    },
    {
     "data": {
      "image/png": "[encoded data removed]",
      "text/plain": [
       "<Figure size 432x288 with 1 Axes>"
      ]
     },
     "metadata": {
      "needs_background": "light"
     },
     "output_type": "display_data"
    },
    {
     "name": "stdout",
     "output_type": "stream",
     "text": [
      "mse: 0.00077\n",
      "ori mse: 546.05573\n",
      "ori mae: 14.21389\n"
     ]
    },
    {
     "data": {
      "image/png": "[encoded data removed]",
      "text/plain": [
       "<Figure size 432x288 with 1 Axes>"
      ]
     },
     "metadata": {
      "needs_background": "light"
     },
     "output_type": "display_data"
    }
   ],
   "source": [
    "comps = ['aapl', 'amzn', 'goog', 'msft', 'nflx', 'tsla']\n",
    "\n",
    "for comp in comps:\n",
    "    print(comp)\n",
    "    my_eval(comp, with_sent)\n"
   ]
  },
  {
   "cell_type": "code",
   "execution_count": null,
   "metadata": {},
   "outputs": [],
   "source": []
  },
  {
   "cell_type": "code",
   "execution_count": null,
   "metadata": {},
   "outputs": [],
   "source": []
  },
  {
   "cell_type": "code",
   "execution_count": null,
   "metadata": {},
   "outputs": [],
   "source": []
  },
  {
   "cell_type": "code",
   "execution_count": null,
   "metadata": {},
   "outputs": [],
   "source": []
  },
  {
   "cell_type": "code",
   "execution_count": null,
   "metadata": {},
   "outputs": [],
   "source": []
  },
  {
   "cell_type": "code",
   "execution_count": 2,
   "metadata": {},
   "outputs": [
    {
     "name": "stdout",
     "output_type": "stream",
     "text": [
      "Collecting xgboostNote: you may need to restart the kernel to use updated packages.\n",
      "\n",
      "  Downloading xgboost-1.4.1-py3-none-win_amd64.whl (97.8 MB)\n",
      "Requirement already satisfied: numpy in c:\\users\\liu\\anaconda3\\lib\\site-packages (from xgboost) (1.19.2)\n",
      "Requirement already satisfied: scipy in c:\\users\\liu\\anaconda3\\lib\\site-packages (from xgboost) (1.5.2)\n",
      "Installing collected packages: xgboost\n",
      "Successfully installed xgboost-1.4.1\n"
     ]
    }
   ],
   "source": [
    "pip install xgboost"
   ]
  },
  {
   "cell_type": "markdown",
   "metadata": {},
   "source": [
    "## try xgboost to select features"
   ]
  },
  {
   "cell_type": "code",
   "execution_count": 4,
   "metadata": {},
   "outputs": [
    {
     "name": "stderr",
     "output_type": "stream",
     "text": [
      "C:\\Users\\Liu\\anaconda3\\lib\\site-packages\\ta\\trend.py:768: RuntimeWarning: invalid value encountered in double_scalars\n",
      "  dip[i] = 100 * (self._dip[i] / self._trs[i])\n",
      "C:\\Users\\Liu\\anaconda3\\lib\\site-packages\\ta\\trend.py:772: RuntimeWarning: invalid value encountered in double_scalars\n",
      "  din[i] = 100 * (self._din[i] / self._trs[i])\n"
     ]
    }
   ],
   "source": [
    "import xgboost as xgb\n",
    "import numpy as np\n",
    "import pandas as pd\n",
    "import ta\n",
    "from sklearn.preprocessing import MinMaxScaler\n",
    "from sklearn.model_selection import train_test_split\n",
    "from sklearn.metrics import mean_squared_error\n",
    "\n",
    "TEST_SIZE = 0.3\n",
    "\n",
    "def xgb_load_data(csv_file):\n",
    "    ori_data = pd.read_csv(csv_file)\n",
    "    \n",
    "    extend_data = ta.add_all_ta_features(ori_data, open=\"Open\", high=\"High\", low=\"Low\", close=\"Close\", volume=\"Volume\", fillna=True)\n",
    "    \n",
    "    train_data, test_data = train_test_split(ori_data, test_size=TEST_SIZE, shuffle=False)\n",
    "    return train_data, test_data, ori_data\n",
    "\n",
    "\n",
    "train_data, test_data, ori_data = xgb_load_data('data/aapl_ori.csv')\n",
    "\n",
    "train_data = train_data.iloc[:, 1:]\n",
    "train_x = train_data.iloc[:-1, 1:]\n",
    "train_y = train_data.iloc[1:, 4].values\n",
    "\n",
    "test_data = test_data.iloc[:, 1:]\n",
    "test_x = test_data.iloc[:-1, 1:]\n",
    "test_y = test_data.iloc[1:, 4].values"
   ]
  },
  {
   "cell_type": "code",
   "execution_count": null,
   "metadata": {},
   "outputs": [],
   "source": []
  },
  {
   "cell_type": "code",
   "execution_count": 5,
   "metadata": {},
   "outputs": [
    {
     "name": "stdout",
     "output_type": "stream",
     "text": [
      "[14:51:06] WARNING: C:/Users/Administrator/workspace/xgboost-win64_release_1.4.0/src/objective/regression_obj.cu:171: reg:linear is now deprecated in favor of reg:squarederror.\n",
      "[0]\terrors-rmse:113.76048\n",
      "[1]\terrors-rmse:105.29248\n",
      "[2]\terrors-rmse:97.55694\n",
      "[3]\terrors-rmse:90.50364\n",
      "[4]\terrors-rmse:83.93647\n",
      "[5]\terrors-rmse:78.21613\n",
      "[6]\terrors-rmse:71.99632\n",
      "[7]\terrors-rmse:66.39764\n",
      "[8]\terrors-rmse:62.05179\n",
      "[9]\terrors-rmse:58.10169\n",
      "[10]\terrors-rmse:53.89431\n",
      "[11]\terrors-rmse:50.10960\n",
      "[12]\terrors-rmse:46.70586\n",
      "[13]\terrors-rmse:43.97530\n",
      "[14]\terrors-rmse:41.82283\n",
      "[15]\terrors-rmse:39.25618\n",
      "[16]\terrors-rmse:36.94982\n",
      "[17]\terrors-rmse:35.43341\n",
      "[18]\terrors-rmse:33.51580\n",
      "[19]\terrors-rmse:32.11078\n",
      "[20]\terrors-rmse:30.72627\n",
      "[21]\terrors-rmse:29.25395\n",
      "[22]\terrors-rmse:28.33340\n",
      "[23]\terrors-rmse:27.34873\n",
      "[24]\terrors-rmse:26.27927\n",
      "[25]\terrors-rmse:25.92081\n",
      "[26]\terrors-rmse:25.01572\n",
      "[27]\terrors-rmse:24.25026\n",
      "[28]\terrors-rmse:23.89899\n",
      "[29]\terrors-rmse:23.45602\n",
      "[30]\terrors-rmse:22.80252\n",
      "[31]\terrors-rmse:22.32367\n",
      "[32]\terrors-rmse:21.81417\n",
      "[33]\terrors-rmse:21.69546\n",
      "[34]\terrors-rmse:21.22554\n",
      "[35]\terrors-rmse:21.10655\n",
      "[36]\terrors-rmse:20.88739\n",
      "[37]\terrors-rmse:20.77753\n",
      "[38]\terrors-rmse:20.62436\n",
      "[39]\terrors-rmse:20.44742\n",
      "[40]\terrors-rmse:20.14190\n",
      "[41]\terrors-rmse:19.99796\n",
      "[42]\terrors-rmse:19.76420\n",
      "[43]\terrors-rmse:19.67647\n",
      "[44]\terrors-rmse:19.62860\n",
      "[45]\terrors-rmse:19.59074\n",
      "[46]\terrors-rmse:19.52126\n",
      "[47]\terrors-rmse:19.49331\n",
      "[48]\terrors-rmse:19.41775\n",
      "[49]\terrors-rmse:19.35076\n",
      "rmse:  19.350762966653207\n"
     ]
    }
   ],
   "source": [
    "data_dmatrix = xgb.DMatrix(data=train_x.values,label=train_y)\n",
    "test_dmatrix = xgb.DMatrix(data=test_x.values,label=test_y)\n",
    "\n",
    "rses = []\n",
    "# for i in range(10):\n",
    "params = {\"objective\":\"reg:linear\",'colsample_bytree': 0.3,'learning_rate': 0.1,\n",
    "            'max_depth': 6, 'alpha': 11, 'tree_method': 'hist', 'lambda': 0.1} \n",
    "xg_reg = xgb.train(params=params, dtrain=data_dmatrix, num_boost_round=50, evals=[(test_dmatrix, 'errors')])\n",
    "te_preds = xg_reg.predict(test_dmatrix)\n",
    "rmse = np.sqrt(mean_squared_error(test_y, te_preds))\n",
    "print('rmse: ', rmse)\n",
    "#     rses.append((pt, rmse))\n",
    "#     print(i, rmse)"
   ]
  },
  {
   "cell_type": "code",
   "execution_count": 6,
   "metadata": {},
   "outputs": [
    {
     "data": {
      "text/plain": [
       "[('f41', 12295.17277952),\n",
       " ('f56', 12045.0859625),\n",
       " ('f17', 9586.738191869717),\n",
       " ('f0', 8668.365852514888),\n",
       " ('f32', 3677.771972655),\n",
       " ('f1', 3167.383103566653),\n",
       " ('f14', 3159.0526271833332),\n",
       " ('f16', 2177.9734758605714),\n",
       " ('f23', 1699.51953),\n",
       " ('f87', 1198.8804217979998),\n",
       " ('f3', 1142.1256940713572),\n",
       " ('f2', 1069.4400281516666),\n",
       " ('f59', 752.7345136221248),\n",
       " ('f39', 720.0526275635),\n",
       " ('f18', 702.7642137979999),\n",
       " ('f5', 577.7471755195555),\n",
       " ('f40', 457.537854704),\n",
       " ('f25', 416.168469515),\n",
       " ('f42', 278.2756347655),\n",
       " ('f24', 173.92822265),\n",
       " ('f30', 130.93088796666666),\n",
       " ('f37', 118.03125),\n",
       " ('f57', 97.6715928075),\n",
       " ('f60', 76.4097483275),\n",
       " ('f13', 76.13641917181819),\n",
       " ('f6', 71.4609375),\n",
       " ('f80', 45.71670526666667),\n",
       " ('f50', 42.183488473999994),\n",
       " ('f35', 30.501007077),\n",
       " ('f53', 10.547668456333334),\n",
       " ('f8', 9.3216293318),\n",
       " ('f73', 7.403335578750001),\n",
       " ('f64', 7.209289555),\n",
       " ('f15', 6.289965947333333),\n",
       " ('f33', 6.2169647249999995),\n",
       " ('f45', 6.096862783333333),\n",
       " ('f65', 5.181273143333334),\n",
       " ('f54', 5.02502441875),\n",
       " ('f11', 4.961282087333333),\n",
       " ('f58', 4.49382019),\n",
       " ('f83', 4.400924673166666),\n",
       " ('f4', 4.387451169666667),\n",
       " ('f69', 4.045143128),\n",
       " ('f52', 3.599897006466667),\n",
       " ('f48', 3.4732654115000003),\n",
       " ('f27', 3.38012695),\n",
       " ('f36', 3.3714790333333333),\n",
       " ('f44', 3.204758326666667),\n",
       " ('f85', 3.0639809557777777),\n",
       " ('f26', 2.781255088),\n",
       " ('f76', 2.735729217333333),\n",
       " ('f7', 2.578530629),\n",
       " ('f47', 2.5503734245),\n",
       " ('f78', 2.475448609),\n",
       " ('f55', 2.360597882285714),\n",
       " ('f46', 2.31301546155),\n",
       " ('f34', 2.3088331225000003),\n",
       " ('f82', 2.2759752911666666),\n",
       " ('f81', 2.1108894350000003),\n",
       " ('f49', 1.60699463),\n",
       " ('f84', 1.420871735),\n",
       " ('f43', 1.3718566882029999),\n",
       " ('f51', 1.27874756),\n",
       " ('f61', 1.25939751),\n",
       " ('f19', 1.2429078428333333),\n",
       " ('f77', 1.2237803133333334),\n",
       " ('f66', 1.1827507),\n",
       " ('f9', 1.0551757826666666),\n",
       " ('f12', 0.8636997784285713),\n",
       " ('f75', 0.579128265),\n",
       " ('f79', 0.5610376986666666)]"
      ]
     },
     "execution_count": 6,
     "metadata": {},
     "output_type": "execute_result"
    }
   ],
   "source": [
    "importances = xg_reg.get_score(importance_type='gain')\n",
    "res = sorted(importances.items(), key=lambda x: -x[1])\n",
    "res"
   ]
  },
  {
   "cell_type": "code",
   "execution_count": 7,
   "metadata": {},
   "outputs": [
    {
     "name": "stdout",
     "output_type": "stream",
     "text": [
      "[42, 57, 18, 1, 33, 2, 15, 17, 24, 88, 4, 3, 60, 40, 19, 6, 41, 26, 43, 25, 31, 38, 58, 61, 14]\n"
     ]
    }
   ],
   "source": [
    "features = [int(item[0][1:])+1 for item in res[:25]]\n",
    "print(features)"
   ]
  },
  {
   "cell_type": "code",
   "execution_count": 11,
   "metadata": {},
   "outputs": [
    {
     "data": {
      "text/html": [
       "<div>\n",
       "<style scoped>\n",
       "    .dataframe tbody tr th:only-of-type {\n",
       "        vertical-align: middle;\n",
       "    }\n",
       "\n",
       "    .dataframe tbody tr th {\n",
       "        vertical-align: top;\n",
       "    }\n",
       "\n",
       "    .dataframe thead th {\n",
       "        text-align: right;\n",
       "    }\n",
       "</style>\n",
       "<table border=\"1\" class=\"dataframe\">\n",
       "  <thead>\n",
       "    <tr style=\"text-align: right;\">\n",
       "      <th></th>\n",
       "      <th>trend_sma_slow</th>\n",
       "      <th>trend_kst_diff</th>\n",
       "      <th>volatility_bbm</th>\n",
       "      <th>Open</th>\n",
       "      <th>volatility_dch</th>\n",
       "      <th>High</th>\n",
       "      <th>volume_nvi</th>\n",
       "      <th>volatility_atr</th>\n",
       "      <th>volatility_bbli</th>\n",
       "      <th>others_dlr</th>\n",
       "      <th>...</th>\n",
       "      <th>Volume</th>\n",
       "      <th>trend_sma_fast</th>\n",
       "      <th>volatility_kch</th>\n",
       "      <th>trend_ema_fast</th>\n",
       "      <th>volatility_kcc</th>\n",
       "      <th>volatility_kcli</th>\n",
       "      <th>trend_macd</th>\n",
       "      <th>trend_ichimoku_conv</th>\n",
       "      <th>trend_ichimoku_b</th>\n",
       "      <th>volume_vpt</th>\n",
       "    </tr>\n",
       "  </thead>\n",
       "  <tbody>\n",
       "    <tr>\n",
       "      <th>0</th>\n",
       "      <td>39.480000</td>\n",
       "      <td>0.000000</td>\n",
       "      <td>39.480000</td>\n",
       "      <td>38.722500</td>\n",
       "      <td>39.712502</td>\n",
       "      <td>39.712502</td>\n",
       "      <td>1000.000000</td>\n",
       "      <td>0.000000</td>\n",
       "      <td>0.0</td>\n",
       "      <td>0.000000</td>\n",
       "      <td>...</td>\n",
       "      <td>148158800</td>\n",
       "      <td>39.480000</td>\n",
       "      <td>40.405003</td>\n",
       "      <td>39.480000</td>\n",
       "      <td>39.250000</td>\n",
       "      <td>0.0</td>\n",
       "      <td>0.000000</td>\n",
       "      <td>39.135001</td>\n",
       "      <td>39.135001</td>\n",
       "      <td>-7.591578e+07</td>\n",
       "    </tr>\n",
       "    <tr>\n",
       "      <th>1</th>\n",
       "      <td>37.513751</td>\n",
       "      <td>-12.129311</td>\n",
       "      <td>37.513751</td>\n",
       "      <td>35.994999</td>\n",
       "      <td>39.712502</td>\n",
       "      <td>36.430000</td>\n",
       "      <td>1000.000000</td>\n",
       "      <td>0.000000</td>\n",
       "      <td>0.0</td>\n",
       "      <td>-10.492436</td>\n",
       "      <td>...</td>\n",
       "      <td>365248800</td>\n",
       "      <td>37.513751</td>\n",
       "      <td>38.580419</td>\n",
       "      <td>38.875000</td>\n",
       "      <td>37.537917</td>\n",
       "      <td>1.0</td>\n",
       "      <td>-0.313704</td>\n",
       "      <td>37.606251</td>\n",
       "      <td>37.606251</td>\n",
       "      <td>-1.123744e+08</td>\n",
       "    </tr>\n",
       "    <tr>\n",
       "      <th>2</th>\n",
       "      <td>37.364167</td>\n",
       "      <td>-9.316535</td>\n",
       "      <td>37.364167</td>\n",
       "      <td>36.132500</td>\n",
       "      <td>39.712502</td>\n",
       "      <td>37.137501</td>\n",
       "      <td>1042.689302</td>\n",
       "      <td>0.000000</td>\n",
       "      <td>0.0</td>\n",
       "      <td>4.180324</td>\n",
       "      <td>...</td>\n",
       "      <td>234428400</td>\n",
       "      <td>37.364167</td>\n",
       "      <td>38.355279</td>\n",
       "      <td>38.596538</td>\n",
       "      <td>37.264445</td>\n",
       "      <td>0.0</td>\n",
       "      <td>-0.434854</td>\n",
       "      <td>37.606251</td>\n",
       "      <td>37.606251</td>\n",
       "      <td>-2.637389e+07</td>\n",
       "    </tr>\n",
       "    <tr>\n",
       "      <th>3</th>\n",
       "      <td>37.268749</td>\n",
       "      <td>-7.870309</td>\n",
       "      <td>37.268749</td>\n",
       "      <td>37.174999</td>\n",
       "      <td>39.712502</td>\n",
       "      <td>37.207500</td>\n",
       "      <td>1040.368435</td>\n",
       "      <td>0.000000</td>\n",
       "      <td>0.0</td>\n",
       "      <td>-0.222833</td>\n",
       "      <td>...</td>\n",
       "      <td>219111200</td>\n",
       "      <td>37.268749</td>\n",
       "      <td>38.171668</td>\n",
       "      <td>38.348225</td>\n",
       "      <td>37.170417</td>\n",
       "      <td>0.0</td>\n",
       "      <td>-0.531398</td>\n",
       "      <td>37.606251</td>\n",
       "      <td>37.606251</td>\n",
       "      <td>9.519877e+06</td>\n",
       "    </tr>\n",
       "    <tr>\n",
       "      <th>4</th>\n",
       "      <td>37.352500</td>\n",
       "      <td>-5.469633</td>\n",
       "      <td>37.352500</td>\n",
       "      <td>37.389999</td>\n",
       "      <td>39.712502</td>\n",
       "      <td>37.955002</td>\n",
       "      <td>1060.201109</td>\n",
       "      <td>0.000000</td>\n",
       "      <td>0.0</td>\n",
       "      <td>1.888370</td>\n",
       "      <td>...</td>\n",
       "      <td>164101200</td>\n",
       "      <td>37.352500</td>\n",
       "      <td>38.220501</td>\n",
       "      <td>38.246575</td>\n",
       "      <td>37.254500</td>\n",
       "      <td>0.0</td>\n",
       "      <td>-0.544742</td>\n",
       "      <td>37.606251</td>\n",
       "      <td>37.606251</td>\n",
       "      <td>2.640574e+06</td>\n",
       "    </tr>\n",
       "    <tr>\n",
       "      <th>...</th>\n",
       "      <td>...</td>\n",
       "      <td>...</td>\n",
       "      <td>...</td>\n",
       "      <td>...</td>\n",
       "      <td>...</td>\n",
       "      <td>...</td>\n",
       "      <td>...</td>\n",
       "      <td>...</td>\n",
       "      <td>...</td>\n",
       "      <td>...</td>\n",
       "      <td>...</td>\n",
       "      <td>...</td>\n",
       "      <td>...</td>\n",
       "      <td>...</td>\n",
       "      <td>...</td>\n",
       "      <td>...</td>\n",
       "      <td>...</td>\n",
       "      <td>...</td>\n",
       "      <td>...</td>\n",
       "      <td>...</td>\n",
       "      <td>...</td>\n",
       "    </tr>\n",
       "    <tr>\n",
       "      <th>577</th>\n",
       "      <td>125.950000</td>\n",
       "      <td>42.773578</td>\n",
       "      <td>126.941500</td>\n",
       "      <td>133.509995</td>\n",
       "      <td>135.470001</td>\n",
       "      <td>135.470001</td>\n",
       "      <td>3676.889568</td>\n",
       "      <td>2.740313</td>\n",
       "      <td>0.0</td>\n",
       "      <td>0.505571</td>\n",
       "      <td>...</td>\n",
       "      <td>94264200</td>\n",
       "      <td>130.630833</td>\n",
       "      <td>133.888999</td>\n",
       "      <td>130.951286</td>\n",
       "      <td>131.602000</td>\n",
       "      <td>0.0</td>\n",
       "      <td>2.765556</td>\n",
       "      <td>130.305000</td>\n",
       "      <td>127.045002</td>\n",
       "      <td>2.633710e+05</td>\n",
       "    </tr>\n",
       "    <tr>\n",
       "      <th>578</th>\n",
       "      <td>126.414615</td>\n",
       "      <td>40.770863</td>\n",
       "      <td>127.427500</td>\n",
       "      <td>135.020004</td>\n",
       "      <td>135.529999</td>\n",
       "      <td>135.529999</td>\n",
       "      <td>3676.889568</td>\n",
       "      <td>2.838281</td>\n",
       "      <td>0.0</td>\n",
       "      <td>-1.291300</td>\n",
       "      <td>...</td>\n",
       "      <td>94812300</td>\n",
       "      <td>131.473333</td>\n",
       "      <td>134.828333</td>\n",
       "      <td>131.283396</td>\n",
       "      <td>132.317333</td>\n",
       "      <td>0.0</td>\n",
       "      <td>2.732905</td>\n",
       "      <td>132.025002</td>\n",
       "      <td>127.045002</td>\n",
       "      <td>-7.386608e+05</td>\n",
       "    </tr>\n",
       "    <tr>\n",
       "      <th>579</th>\n",
       "      <td>126.780384</td>\n",
       "      <td>38.828515</td>\n",
       "      <td>127.975500</td>\n",
       "      <td>132.360001</td>\n",
       "      <td>135.529999</td>\n",
       "      <td>133.750000</td>\n",
       "      <td>3687.662487</td>\n",
       "      <td>2.799453</td>\n",
       "      <td>0.0</td>\n",
       "      <td>0.292562</td>\n",
       "      <td>...</td>\n",
       "      <td>68847100</td>\n",
       "      <td>132.106667</td>\n",
       "      <td>135.381666</td>\n",
       "      <td>131.624412</td>\n",
       "      <td>132.903667</td>\n",
       "      <td>0.0</td>\n",
       "      <td>2.707291</td>\n",
       "      <td>132.500000</td>\n",
       "      <td>127.045002</td>\n",
       "      <td>-1.014725e+06</td>\n",
       "    </tr>\n",
       "    <tr>\n",
       "      <th>580</th>\n",
       "      <td>127.025384</td>\n",
       "      <td>34.086127</td>\n",
       "      <td>128.568000</td>\n",
       "      <td>133.039993</td>\n",
       "      <td>135.529999</td>\n",
       "      <td>134.149994</td>\n",
       "      <td>3687.662487</td>\n",
       "      <td>2.793507</td>\n",
       "      <td>0.0</td>\n",
       "      <td>-1.175419</td>\n",
       "      <td>...</td>\n",
       "      <td>84566500</td>\n",
       "      <td>132.584167</td>\n",
       "      <td>135.742999</td>\n",
       "      <td>131.672964</td>\n",
       "      <td>133.178000</td>\n",
       "      <td>0.0</td>\n",
       "      <td>2.531926</td>\n",
       "      <td>133.080002</td>\n",
       "      <td>127.045002</td>\n",
       "      <td>-7.864764e+05</td>\n",
       "    </tr>\n",
       "    <tr>\n",
       "      <th>581</th>\n",
       "      <td>127.393077</td>\n",
       "      <td>29.003529</td>\n",
       "      <td>129.254501</td>\n",
       "      <td>132.160004</td>\n",
       "      <td>135.529999</td>\n",
       "      <td>135.119995</td>\n",
       "      <td>3754.182534</td>\n",
       "      <td>2.832155</td>\n",
       "      <td>0.0</td>\n",
       "      <td>1.787778</td>\n",
       "      <td>...</td>\n",
       "      <td>78657500</td>\n",
       "      <td>133.119167</td>\n",
       "      <td>135.885000</td>\n",
       "      <td>132.080202</td>\n",
       "      <td>133.381000</td>\n",
       "      <td>0.0</td>\n",
       "      <td>2.555536</td>\n",
       "      <td>133.415001</td>\n",
       "      <td>127.045002</td>\n",
       "      <td>4.306749e+05</td>\n",
       "    </tr>\n",
       "  </tbody>\n",
       "</table>\n",
       "<p>582 rows × 25 columns</p>\n",
       "</div>"
      ],
      "text/plain": [
       "     trend_sma_slow  trend_kst_diff  volatility_bbm        Open  \\\n",
       "0         39.480000        0.000000       39.480000   38.722500   \n",
       "1         37.513751      -12.129311       37.513751   35.994999   \n",
       "2         37.364167       -9.316535       37.364167   36.132500   \n",
       "3         37.268749       -7.870309       37.268749   37.174999   \n",
       "4         37.352500       -5.469633       37.352500   37.389999   \n",
       "..              ...             ...             ...         ...   \n",
       "577      125.950000       42.773578      126.941500  133.509995   \n",
       "578      126.414615       40.770863      127.427500  135.020004   \n",
       "579      126.780384       38.828515      127.975500  132.360001   \n",
       "580      127.025384       34.086127      128.568000  133.039993   \n",
       "581      127.393077       29.003529      129.254501  132.160004   \n",
       "\n",
       "     volatility_dch        High   volume_nvi  volatility_atr  volatility_bbli  \\\n",
       "0         39.712502   39.712502  1000.000000        0.000000              0.0   \n",
       "1         39.712502   36.430000  1000.000000        0.000000              0.0   \n",
       "2         39.712502   37.137501  1042.689302        0.000000              0.0   \n",
       "3         39.712502   37.207500  1040.368435        0.000000              0.0   \n",
       "4         39.712502   37.955002  1060.201109        0.000000              0.0   \n",
       "..              ...         ...          ...             ...              ...   \n",
       "577      135.470001  135.470001  3676.889568        2.740313              0.0   \n",
       "578      135.529999  135.529999  3676.889568        2.838281              0.0   \n",
       "579      135.529999  133.750000  3687.662487        2.799453              0.0   \n",
       "580      135.529999  134.149994  3687.662487        2.793507              0.0   \n",
       "581      135.529999  135.119995  3754.182534        2.832155              0.0   \n",
       "\n",
       "     others_dlr  ...     Volume  trend_sma_fast  volatility_kch  \\\n",
       "0      0.000000  ...  148158800       39.480000       40.405003   \n",
       "1    -10.492436  ...  365248800       37.513751       38.580419   \n",
       "2      4.180324  ...  234428400       37.364167       38.355279   \n",
       "3     -0.222833  ...  219111200       37.268749       38.171668   \n",
       "4      1.888370  ...  164101200       37.352500       38.220501   \n",
       "..          ...  ...        ...             ...             ...   \n",
       "577    0.505571  ...   94264200      130.630833      133.888999   \n",
       "578   -1.291300  ...   94812300      131.473333      134.828333   \n",
       "579    0.292562  ...   68847100      132.106667      135.381666   \n",
       "580   -1.175419  ...   84566500      132.584167      135.742999   \n",
       "581    1.787778  ...   78657500      133.119167      135.885000   \n",
       "\n",
       "     trend_ema_fast  volatility_kcc  volatility_kcli  trend_macd  \\\n",
       "0         39.480000       39.250000              0.0    0.000000   \n",
       "1         38.875000       37.537917              1.0   -0.313704   \n",
       "2         38.596538       37.264445              0.0   -0.434854   \n",
       "3         38.348225       37.170417              0.0   -0.531398   \n",
       "4         38.246575       37.254500              0.0   -0.544742   \n",
       "..              ...             ...              ...         ...   \n",
       "577      130.951286      131.602000              0.0    2.765556   \n",
       "578      131.283396      132.317333              0.0    2.732905   \n",
       "579      131.624412      132.903667              0.0    2.707291   \n",
       "580      131.672964      133.178000              0.0    2.531926   \n",
       "581      132.080202      133.381000              0.0    2.555536   \n",
       "\n",
       "     trend_ichimoku_conv  trend_ichimoku_b    volume_vpt  \n",
       "0              39.135001         39.135001 -7.591578e+07  \n",
       "1              37.606251         37.606251 -1.123744e+08  \n",
       "2              37.606251         37.606251 -2.637389e+07  \n",
       "3              37.606251         37.606251  9.519877e+06  \n",
       "4              37.606251         37.606251  2.640574e+06  \n",
       "..                   ...               ...           ...  \n",
       "577           130.305000        127.045002  2.633710e+05  \n",
       "578           132.025002        127.045002 -7.386608e+05  \n",
       "579           132.500000        127.045002 -1.014725e+06  \n",
       "580           133.080002        127.045002 -7.864764e+05  \n",
       "581           133.415001        127.045002  4.306749e+05  \n",
       "\n",
       "[582 rows x 25 columns]"
      ]
     },
     "execution_count": 11,
     "metadata": {},
     "output_type": "execute_result"
    }
   ],
   "source": [
    "tmp = ori_data.iloc[:, [42, 57, 18, 1, 33, 2, 15, 17, 24, 88, 4, 3, 60, 40, 19, 6, 41, 26, 43, 25, 31, 38, 58, 61, 14]]\n",
    "tmp"
   ]
  },
  {
   "cell_type": "code",
   "execution_count": 17,
   "metadata": {},
   "outputs": [],
   "source": [
    "x = [('f41', 12295.17277952),\n",
    " ('f56', 12045.0859625),\n",
    " ('f17', 9586.738191869717),\n",
    " ('f0', 8668.365852514888),\n",
    " ('f32', 3677.771972655),\n",
    " ('f1', 3167.383103566653),\n",
    " ('f14', 3159.0526271833332),\n",
    " ('f16', 2177.9734758605714),\n",
    " ('f23', 1699.51953),\n",
    " ('f87', 1198.8804217979998),\n",
    " ('f3', 1142.1256940713572),\n",
    " ('f2', 1069.4400281516666),\n",
    " ('f59', 752.7345136221248),\n",
    " ('f39', 720.0526275635),\n",
    " ('f18', 702.7642137979999),\n",
    " ('f5', 577.7471755195555),\n",
    " ('f40', 457.537854704),\n",
    " ('f25', 416.168469515),\n",
    " ('f42', 278.2756347655),\n",
    " ('f24', 173.92822265),\n",
    " ('f30', 130.93088796666666),\n",
    " ('f37', 118.03125),\n",
    " ('f57', 97.6715928075),\n",
    " ('f60', 76.4097483275),\n",
    " ('f13', 76.13641917181819)]\n",
    "y = list(tmp.columns)"
   ]
  },
  {
   "cell_type": "code",
   "execution_count": 19,
   "metadata": {},
   "outputs": [
    {
     "name": "stdout",
     "output_type": "stream",
     "text": [
      "trend_sma_slow,12295.17277952\n",
      "trend_kst_diff,12045.0859625\n",
      "volatility_bbm,9586.738191869717\n",
      "Open,8668.365852514888\n",
      "volatility_dch,3677.771972655\n",
      "High,3167.383103566653\n",
      "volume_nvi,3159.0526271833332\n",
      "volatility_atr,2177.9734758605714\n",
      "volatility_bbli,1699.51953\n",
      "others_dlr,1198.8804217979998\n",
      "Close,1142.1256940713572\n",
      "Low,1069.4400281516666\n",
      "trend_ichimoku_a,752.7345136221248\n",
      "trend_macd_diff,720.0526275635\n",
      "volatility_bbh,702.7642137979999\n",
      "Volume,577.7471755195555\n",
      "trend_sma_fast,457.537854704\n",
      "volatility_kch,416.168469515\n",
      "trend_ema_fast,278.2756347655\n",
      "volatility_kcc,173.92822265\n",
      "volatility_kcli,130.93088796666666\n",
      "trend_macd,118.03125\n",
      "trend_ichimoku_conv,97.6715928075\n",
      "trend_ichimoku_b,76.4097483275\n",
      "volume_vpt,76.13641917181819\n"
     ]
    }
   ],
   "source": [
    "for i in range(len(x)):\n",
    "    print(f'{y[i]},{x[i][1]}')"
   ]
  },
  {
   "cell_type": "code",
   "execution_count": null,
   "metadata": {},
   "outputs": [],
   "source": []
  }
 ],
 "metadata": {
  "kernelspec": {
   "display_name": "Python 3",
   "language": "python",
   "name": "python3"
  },
  "language_info": {
   "codemirror_mode": {
    "name": "ipython",
    "version": 3
   },
   "file_extension": ".py",
   "mimetype": "text/x-python",
   "name": "python",
   "nbconvert_exporter": "python",
   "pygments_lexer": "ipython3",
   "version": "3.8.5"
  }
 },
 "nbformat": 4,
 "nbformat_minor": 5
}
