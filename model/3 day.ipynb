{
 "cells": [
  {
   "cell_type": "code",
   "execution_count": 7,
   "metadata": {},
   "outputs": [],
   "source": [
    "import os\n",
    "import matplotlib.pyplot as plt\n",
    "import torch\n",
    "import torch.nn as nn\n",
    "import torch.optim as optim\n",
    "import torch.nn.functional as F\n",
    "import numpy as np\n",
    "import pandas as pd\n",
    "import ta\n",
    "\n",
    "from sklearn.preprocessing import MinMaxScaler\n",
    "from sklearn.model_selection import train_test_split\n",
    "from sklearn.metrics import mean_absolute_error, mean_squared_error\n",
    "from torch.utils.data import DataLoader,Dataset\n",
    "from collections import defaultdict\n",
    "\n",
    "\n",
    "DAYS_FOR_TRAIN = 3\n",
    "FEATURE_SIZE = 10\n",
    "BATCH_SIZE = 32\n",
    "TEST_SIZE = 0.1\n",
    "DROPOUT_PROB = 0\n",
    "OUTPUT_SIZE = 3\n",
    "\n",
    "with_sent = True\n",
    "\n",
    "# selected_ft = [1, 2, 3, 4, 5, 6, 7, 59, 28, 44, 21, 34, 35, 27, 17, 19, 16, 26, 69, 90, 45, 60, 20, 62, 38, 68, 30]\n",
    "if with_sent:\n",
    "    selected_ft = [1, 2, 3, 4, 5, 6, 7, 59, 28, 44, 21, 34, 35, 27, 17, 19, 16, 26, 69, 90, 45, 60, 20, 62, 38, 68, 30] # with sent\n",
    "else:\n",
    "    selected_ft = [1, 2, 3, 4, 5, 57, 26, 42, 19, 32, 33, 25, 15, 17, 14, 24, 67, 88, 43, 58, 18, 60, 36, 66, 28] \n",
    "    \n",
    "selected_ft = selected_ft[:FEATURE_SIZE]\n",
    "\n"
   ]
  },
  {
   "cell_type": "code",
   "execution_count": 8,
   "metadata": {},
   "outputs": [],
   "source": [
    "def my_load_data(csv_file):\n",
    "    ori_data = pd.read_csv(csv_file)\n",
    "    \n",
    "    extend_data = ta.add_all_ta_features(ori_data, open=\"Open\", high=\"High\", low=\"Low\", close=\"Close\", volume=\"Volume\", fillna=True)\n",
    "    \n",
    "    train_data, test_data = train_test_split(extend_data, test_size=TEST_SIZE, shuffle=False)\n",
    "    return train_data, test_data, ori_data\n",
    "\n",
    "\n",
    "class StockDataset(Dataset):\n",
    "    \"\"\"stock market dataset\"\"\"\n",
    "    \n",
    "    def __init__(self, dataset, days_for_train=5, feature_size=5, scaled=True, scaler=None):\n",
    "        self.days_for_train = days_for_train\n",
    "        self.feature_size = feature_size\n",
    "        self.ori_data = dataset\n",
    "\n",
    "        self.data = self.ori_data.iloc[:, selected_ft].values.astype(np.float32)\n",
    "#         print(self.data)\n",
    "        if scaled:\n",
    "            if scaler is None:\n",
    "                self.scaler = MinMaxScaler()\n",
    "                self.data = self.scaler.fit_transform(self.data).astype(np.float32)\n",
    "            else:\n",
    "                self.data = scaler.transform(self.data).astype(np.float32)\n",
    "                self.scaler = scaler\n",
    "        \n",
    "        self.x = self.data\n",
    "        self.y = self.data[:, 3]\n",
    "        \n",
    "        \n",
    "\n",
    "    def __len__(self):\n",
    "        return self.data.shape[0] - self.days_for_train - OUTPUT_SIZE + 1\n",
    "\n",
    "    \n",
    "    def __getitem__(self, idx):\n",
    "        x = self.x[idx:idx+self.days_for_train]\n",
    "#         y = np.zeros((1), dtype=np.float32)\n",
    "\n",
    "        y = np.asarray(self.y[idx+self.days_for_train: idx+self.days_for_train + OUTPUT_SIZE], dtype=np.float32)\n",
    "\n",
    "        t_x = torch.from_numpy(x)\n",
    "        t_y = torch.from_numpy(y)\n",
    "        return t_x, t_y\n",
    "    \n",
    "    def get_scaler(self):\n",
    "        return self.scaler\n",
    "\n",
    "\n",
    "class BaseLSTM_Regression(nn.Module):\n",
    "    \"\"\"\n",
    "        使用LSTM进行回归\n",
    "        \n",
    "        参数：\n",
    "        - input_size: feature size\n",
    "        - hidden_size: number of hidden units\n",
    "        - output_size: number of output\n",
    "        - num_layers: layers of LSTM to stack\n",
    "    \"\"\"\n",
    "    def __init__(self, input_size, hidden_size, output_size=1, num_layers=2):\n",
    "        super().__init__()\n",
    "\n",
    "        self.fc0 = nn.Linear(input_size, input_size)\n",
    "        self.lstm = nn.LSTM(input_size, hidden_size, num_layers, dropout=DROPOUT_PROB)\n",
    "        self.fc = nn.Linear(hidden_size, output_size)\n",
    "        self.fc2 = nn.Linear(DAYS_FOR_TRAIN, output_size)\n",
    "\n",
    "    def forward(self, _x):\n",
    "        out0 = self.fc0(_x)\n",
    "        x, _ = self.lstm(out0)  # _x is input, size (seq_len, batch, input_size)\n",
    "        s, b, h = x.shape  # x is output, size (seq_len, batch, hidden_size)\n",
    "        x = x.view(s*b, h)\n",
    "        out1 = self.fc(x)\n",
    "        out1 = out1.view(s, b)  # 把形状改回来\n",
    "        out1 = out1.transpose(0, 1)\n",
    "#         print('out1', out1.shape)\n",
    "        out2 = self.fc2(out1)\n",
    "        # print(out2.shape)\n",
    "        # out2 = out2.view(b, -1)\n",
    "        return out2\n",
    "    \n",
    "\n",
    "class LSTM_Regression(nn.Module):\n",
    "    \"\"\"\n",
    "        使用LSTM进行回归\n",
    "        \n",
    "        参数：\n",
    "        - input_size: feature size\n",
    "        - hidden_size: number of hidden units\n",
    "        - output_size: number of output\n",
    "        - num_layers: layers of LSTM to stack\n",
    "    \"\"\"\n",
    "    def __init__(self, input_size, hidden_size, output_size=3, num_layers=2):\n",
    "        super().__init__()\n",
    "\n",
    "#         self.fc0 = nn.Linear(input_size, input_size)\n",
    "        self.lstm = nn.LSTM(input_size, hidden_size, num_layers, dropout=DROPOUT_PROB)\n",
    "        self.fc = nn.Linear(hidden_size, output_size)\n",
    "        self.fc2 = nn.Linear(DAYS_FOR_TRAIN, output_size)\n",
    "#         self.out_fc = nn.Linear()\n",
    "\n",
    "        self.dropout = nn.Dropout(DROPOUT_PROB)\n",
    "\n",
    "        \n",
    "    def attention_net(self, x, query, mask=None):\n",
    "        d_k = query.size(-1)\n",
    "        \n",
    "        scores = torch.matmul(query, x.transpose(1, 2)) / np.sqrt(d_k)\n",
    "        \n",
    "        alpha_n = F.softmax(scores, dim=-1)\n",
    "        \n",
    "        context = torch.matmul(alpha_n, x).sum(1)\n",
    "        \n",
    "        return context, alpha_n\n",
    "        \n",
    "        \n",
    "    def forward(self, _x):\n",
    "#         out0 = self.fc0(_x)\n",
    "        x, _ = self.lstm(_x)  # _x is input, size (seq_len, batch, input_size)\n",
    "#         print(x.shape)\n",
    "        x = x.permute(1, 0, 2)\n",
    "#         print(x.shape)\n",
    "        query = self.dropout(x)\n",
    "        x, _ = self.attention_net(x, query)\n",
    "    \n",
    "#         print(x.shape)\n",
    "#         s, b, h = x.shape  # x is output, size (seq_len, batch, hidden_size)\n",
    "        \n",
    "        \n",
    "#         x = x.view(s*b, h)\n",
    "        out1 = self.fc(x)\n",
    "#         out1 = out1.view(s, b)  # 把形状改回来\n",
    "#         out1 = out1.transpose(0, 1)\n",
    "#         print('out1', out1.shape)\n",
    "#         out2 = self.fc2(out1)\n",
    "        # print(out2.shape)\n",
    "        return out1\n",
    "    \n",
    "\n",
    "def my_train(train_dataset):\n",
    "#     print(train_dataset)\n",
    "    data = StockDataset(train_dataset, DAYS_FOR_TRAIN, FEATURE_SIZE)\n",
    "    D = DataLoader(dataset=data, batch_size=BATCH_SIZE)\n",
    "\n",
    "    model = LSTM_Regression(FEATURE_SIZE, 8, output_size=OUTPUT_SIZE, num_layers=2)\n",
    "\n",
    "    loss_function = nn.MSELoss()\n",
    "    optimizer = torch.optim.Adam(model.parameters(), lr=1e-3)\n",
    "\n",
    "    for epoch in range(700):       \n",
    "        for i, (x, y) in enumerate(D):\n",
    "#             print(x.shape, y.shape)\n",
    "            x = x.transpose(0, 1)\n",
    "#             x.transpose(1, 2)\n",
    "            pred_y = model(x)\n",
    "#             print('pred_y: ', pred_y.shape)\n",
    "            loss = loss_function(pred_y, y)\n",
    "\n",
    "            loss.backward()\n",
    "            optimizer.step()\n",
    "            optimizer.zero_grad()\n",
    "\n",
    "        # out = model(train_x)\n",
    "        # loss = loss_function(out, train_y)\n",
    "\n",
    "        # loss.backward()\n",
    "        # optimizer.step()\n",
    "        # optimizer.zero_grad()\n",
    "\n",
    "        if (epoch+1) % 100 == 0:\n",
    "            print('Epoch: {}, Loss:{:.5f}'.format(epoch+1, loss.item()))\n",
    "    \n",
    "    return model, data.scaler\n"
   ]
  },
  {
   "cell_type": "code",
   "execution_count": 9,
   "metadata": {},
   "outputs": [],
   "source": [
    "def my_test(model, test_dataset, train_scaler, output_file):\n",
    "    model.eval()\n",
    "    loss_function = nn.MSELoss()\n",
    "\n",
    "    test_data = StockDataset(test_dataset, DAYS_FOR_TRAIN, FEATURE_SIZE, True, train_scaler)\n",
    "    test_D = DataLoader(dataset=test_data, batch_size=1)\n",
    "\n",
    "    preds = defaultdict(list)\n",
    "    targets = defaultdict(list)\n",
    "    \n",
    "    ori_preds = defaultdict(list)\n",
    "    ori_targets = defaultdict(list)\n",
    "    \n",
    "    def rev_scale(x):\n",
    "        return (x - train_scaler.min_[3]) / train_scaler.scale_[3]\n",
    "\n",
    "    for i, (test_x, test_y) in enumerate(test_D):\n",
    "        test_x = test_x.transpose(0, 1)\n",
    "#         test_x = test_x.to(device)\n",
    "        pred_y = model(test_x)\n",
    "#         print(test_y)\n",
    "#         print(type(pred_y), type(test_y))\n",
    "#         pred_y = pred_y.cpu()\n",
    "#         print(pred_y)\n",
    "\n",
    "        \n",
    "        tmp_pred_y = pred_y.detach().numpy()[0]\n",
    "        tmp_test_y = test_y.detach().numpy()[0]\n",
    "        \n",
    "        for i in range(3):\n",
    "            \n",
    "            preds[str(i)].append(tmp_pred_y[i])\n",
    "            targets[str(i)].append(tmp_test_y[i])\n",
    "\n",
    "            ori_pred_y = (tmp_pred_y[i] - train_scaler.min_[3]) / train_scaler.scale_[3]\n",
    "            ori_test_y = (tmp_test_y[i] - train_scaler.min_[3]) / train_scaler.scale_[3]\n",
    "\n",
    "\n",
    "            ori_preds[str(i)].append(ori_pred_y)\n",
    "            ori_targets[str(i)].append(ori_test_y)\n",
    "\n",
    "#         rmse = loss_function(test_y, pred_y)\n",
    "#         all_rmse.append(rmse)\n",
    "        \n",
    "#         mae = mean_absolute_error(tmp_test_y, tmp_pred_y)\n",
    "#         all_mae.append(mae)\n",
    "    \n",
    "#         print(test_loss)\n",
    "\n",
    "    for i in range(3):\n",
    "        print('%d day mse: %.5f' % (i+1, mean_squared_error(targets[str(i)], preds[str(i)])))\n",
    "        print('%d day ori mse: %.5f' % (i+1, mean_squared_error(ori_targets[str(i)], ori_preds[str(i)])))\n",
    "\n",
    "        print('%d day ori mae: %.5f' % (i+1, mean_absolute_error(ori_targets[str(i)], ori_preds[str(i)])))\n",
    "    \n",
    "#     print('test rmse: %.5f' % (sum(all_rmse)))\n",
    "#     print('test mae: %.5f' % (sum(all_mae)))\n",
    "    \n",
    "    train_size = len(test_data) * (1 - TEST_SIZE)\n",
    "    plt.plot(preds['0'], 'r', label='prediction')\n",
    "    plt.plot(targets['0'], 'b', label='real')\n",
    "    plt.grid()\n",
    "    plt.legend()\n",
    "    plt.plot((train_size, train_size), (-0.1, 1.5), 'g--')\n",
    "    plt.savefig(output_file, format='png', dpi=200)\n",
    "    plt.show()\n",
    "    \n",
    "    return ori_preds['0'], ori_targets['0']"
   ]
  },
  {
   "cell_type": "code",
   "execution_count": 7,
   "metadata": {},
   "outputs": [
    {
     "name": "stderr",
     "output_type": "stream",
     "text": [
      "C:\\Users\\Liu\\anaconda3\\lib\\site-packages\\ta\\trend.py:768: RuntimeWarning: invalid value encountered in double_scalars\n",
      "  dip[i] = 100 * (self._dip[i] / self._trs[i])\n",
      "C:\\Users\\Liu\\anaconda3\\lib\\site-packages\\ta\\trend.py:772: RuntimeWarning: invalid value encountered in double_scalars\n",
      "  din[i] = 100 * (self._din[i] / self._trs[i])\n"
     ]
    },
    {
     "name": "stdout",
     "output_type": "stream",
     "text": [
      "Epoch: 100, Loss:0.00513\n",
      "Epoch: 200, Loss:0.00381\n",
      "Epoch: 300, Loss:0.00312\n",
      "Epoch: 400, Loss:0.00285\n",
      "Epoch: 500, Loss:0.00269\n",
      "Epoch: 600, Loss:0.00255\n",
      "Epoch: 700, Loss:0.00232\n"
     ]
    }
   ],
   "source": [
    "comp = 'aapl'\n",
    "\n",
    "csv_file = f'data/sentiments/{comp}_sent.csv' if with_sent else f'data/{comp}_ori.csv'\n",
    "train_dataset, test_dataset, ori_dataset = my_load_data(csv_file)\n",
    "# train_dataset, test_dataset, ori_dataset = my_load_data('data/AAPL.csv')\n",
    "trained_model, train_scaler = my_train(train_dataset)"
   ]
  },
  {
   "cell_type": "code",
   "execution_count": 23,
   "metadata": {},
   "outputs": [
    {
     "name": "stdout",
     "output_type": "stream",
     "text": [
      "1 day mse: 0.00083\n",
      "1 day ori mse: 9.66551\n",
      "1 day ori mae: 2.39870\n",
      "2 day mse: 0.00148\n",
      "2 day ori mse: 17.13831\n",
      "2 day ori mae: 3.22517\n",
      "3 day mse: 0.00205\n",
      "3 day ori mse: 23.78458\n",
      "3 day ori mae: 3.78113\n"
     ]
    },
    {
     "data": {
      "image/png": "[encoded data removed]",
      "text/plain": [
       "<Figure size 432x288 with 1 Axes>"
      ]
     },
     "metadata": {
      "needs_background": "light"
     },
     "output_type": "display_data"
    },
    {
     "name": "stdout",
     "output_type": "stream",
     "text": [
      "1 day mse: 0.00057\n",
      "1 day ori mse: 6.56912\n",
      "1 day ori mae: 1.69476\n",
      "2 day mse: 0.00088\n",
      "2 day ori mse: 10.18802\n",
      "2 day ori mae: 2.11991\n",
      "3 day mse: 0.00117\n",
      "3 day ori mse: 13.53413\n",
      "3 day ori mae: 2.45955\n"
     ]
    },
    {
     "data": {
      "image/png": "[encoded data removed]",
      "text/plain": [
       "<Figure size 432x288 with 1 Axes>"
      ]
     },
     "metadata": {
      "needs_background": "light"
     },
     "output_type": "display_data"
    }
   ],
   "source": [
    "my_test(trained_model, test_dataset, train_scaler, f'result_img/cur/{comp}_test_result{\"_sent\" if with_sent else \"\"}.png')\n",
    "ori_preds, ori_targets = my_test(trained_model, ori_dataset, train_scaler, f'result_img/cur/{comp}_result{\"_sent\" if with_sent else \"\"}.png')\n",
    "    "
   ]
  },
  {
   "cell_type": "code",
   "execution_count": null,
   "metadata": {},
   "outputs": [],
   "source": []
  },
  {
   "cell_type": "code",
   "execution_count": null,
   "metadata": {},
   "outputs": [],
   "source": []
  },
  {
   "cell_type": "code",
   "execution_count": 10,
   "metadata": {},
   "outputs": [],
   "source": [
    "def my_eval(comp, with_sent):\n",
    "    csv_file = f'data/sentiments/{comp}_sent.csv' if with_sent else f'data/{comp}_ori.csv'\n",
    "    train_dataset, test_dataset, ori_dataset = my_load_data(csv_file)\n",
    "    # train_dataset, test_dataset, ori_dataset = my_load_data('data/AAPL.csv')\n",
    "    trained_model, train_scaler = my_train(train_dataset)\n",
    "\n",
    "    my_test(trained_model, test_dataset, train_scaler, f'result_img/cur/{comp}_test_result{\"_sent\" if with_sent else \"\"}.png')\n",
    "    ori_preds, ori_targets = my_test(trained_model, ori_dataset, train_scaler, f'result_img/cur/{comp}_result{\"_sent\" if with_sent else \"\"}.png')\n",
    "    \n",
    "    pred_df, tgt_df = data2df(ori_preds, ori_targets, ori_dataset)\n",
    "#     pred_df.to_csv(f'new/{comp}_pred{\"_sent\" if with_sent else \"\"}.csv', index=False)\n",
    "#     tgt_df.to_csv(f'new/{comp}_tgt{\"_sent\" if with_sent else \"\"}.csv', index=False)"
   ]
  },
  {
   "cell_type": "code",
   "execution_count": 11,
   "metadata": {},
   "outputs": [],
   "source": [
    "def data2df(ori_preds, ori_targets, ori_dataset):\n",
    "    out_preds = []\n",
    "    out_tgts = []\n",
    "    \n",
    "    print(len(ori_preds), len(ori_targets), len(ori_dataset))\n",
    "    for i in range(len(ori_preds)):\n",
    "        out_preds.append(ori_preds[i])\n",
    "        out_tgts.append(ori_targets[i])\n",
    "\n",
    "    out_preds_df = pd.DataFrame()\n",
    "    out_preds_df['Date'] = ori_dataset['Date'][3:-2].values\n",
    "#     out_preds_df['Date']\n",
    "    out_preds_df['Close'] = out_preds\n",
    "\n",
    "\n",
    "\n",
    "    out_tgts_df = pd.DataFrame()\n",
    "    out_tgts_df['Date'] = ori_dataset['Date'][3:-2].values\n",
    "    out_tgts_df['Close'] = out_tgts\n",
    "    \n",
    "    return out_preds_df, out_tgts_df"
   ]
  },
  {
   "cell_type": "code",
   "execution_count": null,
   "metadata": {},
   "outputs": [],
   "source": []
  },
  {
   "cell_type": "code",
   "execution_count": 49,
   "metadata": {},
   "outputs": [
    {
     "name": "stdout",
     "output_type": "stream",
     "text": [
      "1 day mse: 0.00083\n",
      "1 day ori mse: 9.66551\n",
      "1 day ori mae: 2.39870\n",
      "2 day mse: 0.00148\n",
      "2 day ori mse: 17.13831\n",
      "2 day ori mae: 3.22517\n",
      "3 day mse: 0.00205\n",
      "3 day ori mse: 23.78458\n",
      "3 day ori mae: 3.78113\n"
     ]
    },
    {
     "data": {
      "image/png": "[encoded data removed]",
      "text/plain": [
       "<Figure size 432x288 with 1 Axes>"
      ]
     },
     "metadata": {
      "needs_background": "light"
     },
     "output_type": "display_data"
    },
    {
     "name": "stdout",
     "output_type": "stream",
     "text": [
      "1 day mse: 0.00057\n",
      "1 day ori mse: 6.56912\n",
      "1 day ori mae: 1.69476\n",
      "2 day mse: 0.00088\n",
      "2 day ori mse: 10.18802\n",
      "2 day ori mae: 2.11991\n",
      "3 day mse: 0.00117\n",
      "3 day ori mse: 13.53413\n",
      "3 day ori mae: 2.45955\n"
     ]
    },
    {
     "data": {
      "image/png": "[encoded data removed]",
      "text/plain": [
       "<Figure size 432x288 with 1 Axes>"
      ]
     },
     "metadata": {
      "needs_background": "light"
     },
     "output_type": "display_data"
    },
    {
     "name": "stdout",
     "output_type": "stream",
     "text": [
      "577 577 582\n"
     ]
    }
   ],
   "source": [
    "comp = 'aapl'\n",
    "\n",
    "my_test(trained_model, test_dataset, train_scaler, f'result_img/cur/{comp}_test_result{\"_sent\" if with_sent else \"\"}.png')\n",
    "ori_preds, ori_targets = my_test(trained_model, ori_dataset, train_scaler, f'result_img/cur/{comp}_result{\"_sent\" if with_sent else \"\"}.png')\n",
    "\n",
    "pred_df, tgt_df = data2df(ori_preds, ori_targets, ori_dataset)\n",
    "pred_df.to_csv(f'new/{comp}_pred{\"_sent\" if with_sent else \"\"}.csv', index=False)\n",
    "tgt_df.to_csv(f'new/{comp}_tgt{\"_sent\" if with_sent else \"\"}.csv', index=False)"
   ]
  },
  {
   "cell_type": "code",
   "execution_count": null,
   "metadata": {},
   "outputs": [],
   "source": []
  },
  {
   "cell_type": "markdown",
   "metadata": {},
   "source": [
    "## evaluation"
   ]
  },
  {
   "cell_type": "code",
   "execution_count": null,
   "metadata": {},
   "outputs": [],
   "source": []
  },
  {
   "cell_type": "code",
   "execution_count": null,
   "metadata": {},
   "outputs": [],
   "source": []
  },
  {
   "cell_type": "code",
   "execution_count": null,
   "metadata": {},
   "outputs": [],
   "source": []
  },
  {
   "cell_type": "code",
   "execution_count": 12,
   "metadata": {},
   "outputs": [
    {
     "name": "stdout",
     "output_type": "stream",
     "text": [
      "aapl\n"
     ]
    },
    {
     "name": "stderr",
     "output_type": "stream",
     "text": [
      "C:\\Users\\Liu\\anaconda3\\lib\\site-packages\\ta\\trend.py:768: RuntimeWarning: invalid value encountered in double_scalars\n",
      "  dip[i] = 100 * (self._dip[i] / self._trs[i])\n",
      "C:\\Users\\Liu\\anaconda3\\lib\\site-packages\\ta\\trend.py:772: RuntimeWarning: invalid value encountered in double_scalars\n",
      "  din[i] = 100 * (self._din[i] / self._trs[i])\n"
     ]
    },
    {
     "name": "stdout",
     "output_type": "stream",
     "text": [
      "Epoch: 100, Loss:0.00486\n",
      "Epoch: 200, Loss:0.00310\n",
      "Epoch: 300, Loss:0.00233\n",
      "Epoch: 400, Loss:0.00205\n",
      "Epoch: 500, Loss:0.00165\n",
      "Epoch: 600, Loss:0.00183\n",
      "Epoch: 700, Loss:0.00136\n",
      "1 day mse: 0.00151\n",
      "1 day ori mse: 17.47745\n",
      "1 day ori mae: 3.32310\n",
      "2 day mse: 0.00286\n",
      "2 day ori mse: 33.12655\n",
      "2 day ori mae: 4.54961\n",
      "3 day mse: 0.00409\n",
      "3 day ori mse: 47.33025\n",
      "3 day ori mae: 5.37688\n"
     ]
    },
    {
     "data": {
      "image/png": "[encoded data removed]",
      "text/plain": [
       "<Figure size 432x288 with 1 Axes>"
      ]
     },
     "metadata": {
      "needs_background": "light"
     },
     "output_type": "display_data"
    },
    {
     "name": "stdout",
     "output_type": "stream",
     "text": [
      "1 day mse: 0.00057\n",
      "1 day ori mse: 6.61291\n",
      "1 day ori mae: 1.75405\n",
      "2 day mse: 0.00089\n",
      "2 day ori mse: 10.29858\n",
      "2 day ori mae: 2.15308\n",
      "3 day mse: 0.00121\n",
      "3 day ori mse: 14.06000\n",
      "3 day ori mae: 2.51107\n"
     ]
    },
    {
     "data": {
      "image/png": "[encoded data removed]",
      "text/plain": [
       "<Figure size 432x288 with 1 Axes>"
      ]
     },
     "metadata": {
      "needs_background": "light"
     },
     "output_type": "display_data"
    },
    {
     "name": "stdout",
     "output_type": "stream",
     "text": [
      "577 577 582\n",
      "amzn\n"
     ]
    },
    {
     "name": "stderr",
     "output_type": "stream",
     "text": [
      "C:\\Users\\Liu\\anaconda3\\lib\\site-packages\\ta\\trend.py:768: RuntimeWarning: invalid value encountered in double_scalars\n",
      "  dip[i] = 100 * (self._dip[i] / self._trs[i])\n",
      "C:\\Users\\Liu\\anaconda3\\lib\\site-packages\\ta\\trend.py:772: RuntimeWarning: invalid value encountered in double_scalars\n",
      "  din[i] = 100 * (self._din[i] / self._trs[i])\n"
     ]
    },
    {
     "name": "stdout",
     "output_type": "stream",
     "text": [
      "Epoch: 100, Loss:0.00229\n",
      "Epoch: 200, Loss:0.00238\n",
      "Epoch: 300, Loss:0.00230\n",
      "Epoch: 400, Loss:0.00219\n",
      "Epoch: 500, Loss:0.00207\n",
      "Epoch: 600, Loss:0.00199\n",
      "Epoch: 700, Loss:0.00193\n",
      "1 day mse: 0.00118\n",
      "1 day ori mse: 4879.45898\n",
      "1 day ori mae: 57.93861\n",
      "2 day mse: 0.00159\n",
      "2 day ori mse: 6574.52393\n",
      "2 day ori mae: 68.43196\n",
      "3 day mse: 0.00205\n",
      "3 day ori mse: 8461.34863\n",
      "3 day ori mae: 76.49377\n"
     ]
    },
    {
     "data": {
      "image/png": "[encoded data removed]",
      "text/plain": [
       "<Figure size 432x288 with 1 Axes>"
      ]
     },
     "metadata": {
      "needs_background": "light"
     },
     "output_type": "display_data"
    },
    {
     "name": "stdout",
     "output_type": "stream",
     "text": [
      "1 day mse: 0.00082\n",
      "1 day ori mse: 3383.14185\n",
      "1 day ori mae: 42.30710\n",
      "2 day mse: 0.00115\n",
      "2 day ori mse: 4741.90186\n",
      "2 day ori mae: 50.32604\n",
      "3 day mse: 0.00147\n",
      "3 day ori mse: 6057.94189\n",
      "3 day ori mae: 58.00964\n"
     ]
    },
    {
     "data": {
      "image/png": "[encoded data removed]",
      "text/plain": [
       "<Figure size 432x288 with 1 Axes>"
      ]
     },
     "metadata": {
      "needs_background": "light"
     },
     "output_type": "display_data"
    },
    {
     "name": "stdout",
     "output_type": "stream",
     "text": [
      "577 577 582\n",
      "goog\n"
     ]
    },
    {
     "name": "stderr",
     "output_type": "stream",
     "text": [
      "C:\\Users\\Liu\\anaconda3\\lib\\site-packages\\ta\\trend.py:768: RuntimeWarning: invalid value encountered in double_scalars\n",
      "  dip[i] = 100 * (self._dip[i] / self._trs[i])\n",
      "C:\\Users\\Liu\\anaconda3\\lib\\site-packages\\ta\\trend.py:772: RuntimeWarning: invalid value encountered in double_scalars\n",
      "  din[i] = 100 * (self._din[i] / self._trs[i])\n"
     ]
    },
    {
     "name": "stdout",
     "output_type": "stream",
     "text": [
      "Epoch: 100, Loss:0.00615\n",
      "Epoch: 200, Loss:0.00609\n",
      "Epoch: 300, Loss:0.00614\n",
      "Epoch: 400, Loss:0.00604\n",
      "Epoch: 500, Loss:0.00575\n",
      "Epoch: 600, Loss:0.00526\n",
      "Epoch: 700, Loss:0.00462\n",
      "1 day mse: 0.00193\n",
      "1 day ori mse: 1569.04675\n",
      "1 day ori mae: 30.85163\n",
      "2 day mse: 0.00266\n",
      "2 day ori mse: 2160.70508\n",
      "2 day ori mae: 36.73062\n",
      "3 day mse: 0.00430\n",
      "3 day ori mse: 3493.81885\n",
      "3 day ori mae: 44.89460\n"
     ]
    },
    {
     "data": {
      "image/png": "[encoded data removed]",
      "text/plain": [
       "<Figure size 432x288 with 1 Axes>"
      ]
     },
     "metadata": {
      "needs_background": "light"
     },
     "output_type": "display_data"
    },
    {
     "name": "stdout",
     "output_type": "stream",
     "text": [
      "1 day mse: 0.00095\n",
      "1 day ori mse: 767.51746\n",
      "1 day ori mae: 19.81484\n",
      "2 day mse: 0.00152\n",
      "2 day ori mse: 1235.43091\n",
      "2 day ori mae: 25.65410\n",
      "3 day mse: 0.00238\n",
      "3 day ori mse: 1930.89233\n",
      "3 day ori mae: 31.84669\n"
     ]
    },
    {
     "data": {
      "image/png": "[encoded data removed]",
      "text/plain": [
       "<Figure size 432x288 with 1 Axes>"
      ]
     },
     "metadata": {
      "needs_background": "light"
     },
     "output_type": "display_data"
    },
    {
     "name": "stdout",
     "output_type": "stream",
     "text": [
      "577 577 582\n",
      "msft\n"
     ]
    },
    {
     "name": "stderr",
     "output_type": "stream",
     "text": [
      "C:\\Users\\Liu\\anaconda3\\lib\\site-packages\\ta\\trend.py:768: RuntimeWarning: invalid value encountered in double_scalars\n",
      "  dip[i] = 100 * (self._dip[i] / self._trs[i])\n",
      "C:\\Users\\Liu\\anaconda3\\lib\\site-packages\\ta\\trend.py:772: RuntimeWarning: invalid value encountered in double_scalars\n",
      "  din[i] = 100 * (self._din[i] / self._trs[i])\n"
     ]
    },
    {
     "name": "stdout",
     "output_type": "stream",
     "text": [
      "Epoch: 100, Loss:0.00519\n",
      "Epoch: 200, Loss:0.00472\n",
      "Epoch: 300, Loss:0.00434\n",
      "Epoch: 400, Loss:0.00391\n",
      "Epoch: 500, Loss:0.00349\n",
      "Epoch: 600, Loss:0.00311\n",
      "Epoch: 700, Loss:0.00304\n",
      "1 day mse: 0.00169\n",
      "1 day ori mse: 33.78025\n",
      "1 day ori mae: 4.96082\n",
      "2 day mse: 0.00207\n",
      "2 day ori mse: 41.47503\n",
      "2 day ori mae: 5.45795\n",
      "3 day mse: 0.00219\n",
      "3 day ori mse: 43.86306\n",
      "3 day ori mae: 5.59858\n"
     ]
    },
    {
     "data": {
      "image/png": "[encoded data removed]",
      "text/plain": [
       "<Figure size 432x288 with 1 Axes>"
      ]
     },
     "metadata": {
      "needs_background": "light"
     },
     "output_type": "display_data"
    },
    {
     "name": "stdout",
     "output_type": "stream",
     "text": [
      "1 day mse: 0.00084\n",
      "1 day ori mse: 16.77564\n",
      "1 day ori mae: 3.03370\n",
      "2 day mse: 0.00111\n",
      "2 day ori mse: 22.18205\n",
      "2 day ori mae: 3.50129\n",
      "3 day mse: 0.00141\n",
      "3 day ori mse: 28.22367\n",
      "3 day ori mae: 3.99048\n"
     ]
    },
    {
     "data": {
      "image/png": "[encoded data removed]",
      "text/plain": [
       "<Figure size 432x288 with 1 Axes>"
      ]
     },
     "metadata": {
      "needs_background": "light"
     },
     "output_type": "display_data"
    },
    {
     "name": "stdout",
     "output_type": "stream",
     "text": [
      "577 577 582\n",
      "nflx\n"
     ]
    },
    {
     "name": "stderr",
     "output_type": "stream",
     "text": [
      "C:\\Users\\Liu\\anaconda3\\lib\\site-packages\\ta\\trend.py:768: RuntimeWarning: invalid value encountered in double_scalars\n",
      "  dip[i] = 100 * (self._dip[i] / self._trs[i])\n",
      "C:\\Users\\Liu\\anaconda3\\lib\\site-packages\\ta\\trend.py:772: RuntimeWarning: invalid value encountered in double_scalars\n",
      "  din[i] = 100 * (self._din[i] / self._trs[i])\n"
     ]
    },
    {
     "name": "stdout",
     "output_type": "stream",
     "text": [
      "Epoch: 100, Loss:0.01856\n",
      "Epoch: 200, Loss:0.01489\n",
      "Epoch: 300, Loss:0.01221\n",
      "Epoch: 400, Loss:0.01134\n",
      "Epoch: 500, Loss:0.01116\n",
      "Epoch: 600, Loss:0.01095\n",
      "Epoch: 700, Loss:0.01069\n",
      "1 day mse: 0.00172\n",
      "1 day ori mse: 189.82103\n",
      "1 day ori mae: 10.81371\n",
      "2 day mse: 0.00273\n",
      "2 day ori mse: 300.10812\n",
      "2 day ori mae: 14.81466\n",
      "3 day mse: 0.00325\n",
      "3 day ori mse: 357.58340\n",
      "3 day ori mae: 15.28159\n"
     ]
    },
    {
     "data": {
      "image/png": "[encoded data removed]",
      "text/plain": [
       "<Figure size 432x288 with 1 Axes>"
      ]
     },
     "metadata": {
      "needs_background": "light"
     },
     "output_type": "display_data"
    },
    {
     "name": "stdout",
     "output_type": "stream",
     "text": [
      "1 day mse: 0.00134\n",
      "1 day ori mse: 147.12143\n",
      "1 day ori mae: 8.84248\n",
      "2 day mse: 0.00206\n",
      "2 day ori mse: 226.23329\n",
      "2 day ori mae: 11.32741\n",
      "3 day mse: 0.00250\n",
      "3 day ori mse: 275.18387\n",
      "3 day ori mae: 12.38975\n"
     ]
    },
    {
     "data": {
      "image/png": "[encoded data removed]",
      "text/plain": [
       "<Figure size 432x288 with 1 Axes>"
      ]
     },
     "metadata": {
      "needs_background": "light"
     },
     "output_type": "display_data"
    },
    {
     "name": "stdout",
     "output_type": "stream",
     "text": [
      "577 577 582\n",
      "tsla\n"
     ]
    },
    {
     "name": "stderr",
     "output_type": "stream",
     "text": [
      "C:\\Users\\Liu\\anaconda3\\lib\\site-packages\\ta\\trend.py:768: RuntimeWarning: invalid value encountered in double_scalars\n",
      "  dip[i] = 100 * (self._dip[i] / self._trs[i])\n",
      "C:\\Users\\Liu\\anaconda3\\lib\\site-packages\\ta\\trend.py:772: RuntimeWarning: invalid value encountered in double_scalars\n",
      "  din[i] = 100 * (self._din[i] / self._trs[i])\n"
     ]
    },
    {
     "name": "stdout",
     "output_type": "stream",
     "text": [
      "Epoch: 100, Loss:0.00038\n",
      "Epoch: 200, Loss:0.00226\n",
      "Epoch: 300, Loss:0.00158\n",
      "Epoch: 400, Loss:0.00171\n",
      "Epoch: 500, Loss:0.00161\n",
      "Epoch: 600, Loss:0.00149\n",
      "Epoch: 700, Loss:0.00137\n",
      "1 day mse: 0.00896\n",
      "1 day ori mse: 6430.17480\n",
      "1 day ori mae: 69.38657\n",
      "2 day mse: 0.01136\n",
      "2 day ori mse: 8152.77441\n",
      "2 day ori mae: 76.61490\n",
      "3 day mse: 0.01278\n",
      "3 day ori mse: 9177.25098\n",
      "3 day ori mae: 81.01866\n"
     ]
    },
    {
     "data": {
      "image/png": "[encoded data removed]",
      "text/plain": [
       "<Figure size 432x288 with 1 Axes>"
      ]
     },
     "metadata": {
      "needs_background": "light"
     },
     "output_type": "display_data"
    },
    {
     "name": "stdout",
     "output_type": "stream",
     "text": [
      "1 day mse: 0.00122\n",
      "1 day ori mse: 875.90845\n",
      "1 day ori mae: 16.90270\n",
      "2 day mse: 0.00162\n",
      "2 day ori mse: 1160.24902\n",
      "2 day ori mae: 20.25950\n",
      "3 day mse: 0.00188\n",
      "3 day ori mse: 1346.85144\n",
      "3 day ori mae: 21.76085\n"
     ]
    },
    {
     "data": {
      "image/png": "[encoded data removed]",
      "text/plain": [
       "<Figure size 432x288 with 1 Axes>"
      ]
     },
     "metadata": {
      "needs_background": "light"
     },
     "output_type": "display_data"
    },
    {
     "name": "stdout",
     "output_type": "stream",
     "text": [
      "577 577 582\n"
     ]
    }
   ],
   "source": [
    "comps = ['aapl', 'amzn', 'goog', 'msft', 'nflx', 'tsla']\n",
    "\n",
    "for comp in comps:\n",
    "    print(comp)\n",
    "    my_eval(comp, with_sent)\n"
   ]
  },
  {
   "cell_type": "code",
   "execution_count": null,
   "metadata": {},
   "outputs": [],
   "source": []
  },
  {
   "cell_type": "markdown",
   "metadata": {},
   "source": [
    "## Predict"
   ]
  },
  {
   "cell_type": "code",
   "execution_count": 130,
   "metadata": {},
   "outputs": [],
   "source": [
    "def pred_test(model, test_dataset, train_scaler):\n",
    "    model.eval()\n",
    "    loss_function = nn.MSELoss()\n",
    "    \n",
    "    test_dataset = test_dataset.append({'Date': '2021-04-26'}, ignore_index=True)\n",
    "    test_dataset = test_dataset.append({'Date': '2021-04-27'}, ignore_index=True)\n",
    "    test_dataset = test_dataset.append({'Date': '2021-04-28'}, ignore_index=True)\n",
    "\n",
    "#     print(test_dataset)\n",
    "    test_data = StockDataset(test_dataset, DAYS_FOR_TRAIN, FEATURE_SIZE, True, train_scaler)\n",
    "#     test_data = test_data.iloc\n",
    "    test_D = DataLoader(dataset=test_data, batch_size=1)\n",
    "\n",
    "    \n",
    "    ori_preds = defaultdict(list)\n",
    "    ori_targets = defaultdict(list)\n",
    "    \n",
    "    def rev_scale(x):\n",
    "        return (x - train_scaler.min_[3]) / train_scaler.scale_[3]\n",
    "\n",
    "    print(len(test_D), len(test_dataset))\n",
    "    for i, (test_x, test_y) in enumerate(test_D):\n",
    "        \n",
    "#         if i == len(test_D) - 1:\n",
    "#             print(test_x, test_y)\n",
    "            \n",
    "        test_x = test_x.transpose(0, 1)\n",
    "#         test_x = test_x.to(device)\n",
    "        pred_y = model(test_x)\n",
    "#         print(test_y)\n",
    "#         print(type(pred_y), type(test_y))\n",
    "#         pred_y = pred_y.cpu()\n",
    "#         print(pred_y)\n",
    "\n",
    "\n",
    "        tmp_pred_y = pred_y.detach().numpy()[0]\n",
    "        tmp_test_y = test_y.detach().numpy()[0]\n",
    "\n",
    "        for i in range(3):\n",
    "            \n",
    "#             preds[str(i)].append(tmp_pred_y[i])\n",
    "#             targets[str(i)].append(tmp_test_y[i])\n",
    "\n",
    "            ori_pred_y = (tmp_pred_y[i] - train_scaler.min_[3]) / train_scaler.scale_[3]\n",
    "            ori_test_y = (tmp_test_y[i] - train_scaler.min_[3]) / train_scaler.scale_[3]\n",
    "\n",
    "\n",
    "            ori_preds[str(i)].append(ori_pred_y)\n",
    "            ori_targets[str(i)].append(ori_test_y)\n",
    "                \n",
    "#     print(ori_preds, ori_targets)\n",
    "\n",
    "# \"\"\n",
    "#     for i in range(len(ori_preds)):\n",
    "#         print(ori_preds[i], ori_targets[i])\n",
    "        \n",
    "    return ori_preds"
   ]
  },
  {
   "cell_type": "code",
   "execution_count": 140,
   "metadata": {},
   "outputs": [],
   "source": [
    "def my_predict(comp, with_sent):\n",
    "    csv_file = f'data/sentiments/{comp}_sent.csv' if with_sent else f'data/{comp}_ori.csv'\n",
    "    train_dataset, test_dataset, ori_dataset = my_load_data(csv_file)\n",
    "    # train_dataset, test_dataset, ori_dataset = my_load_data('data/AAPL.csv')\n",
    "    trained_model, train_scaler = my_train(train_dataset)\n",
    "\n",
    "    res = pred_test(trained_model, ori_dataset, train_scaler)\n",
    "    \n",
    "    output = res['0'] + [res['1'][-1]] + [res['2'][-1]]\n",
    "#     print(comp, res['0'][-9:], res['1'][-1], res['2'][-1])\n",
    "    \n",
    "    def d2f(ori_preds, ori_targets, ori_dataset):\n",
    "        out_preds = []\n",
    "#         out_tgts = []\n",
    "\n",
    "        print(len(ori_preds), len(ori_targets), len(ori_dataset))\n",
    "        for i in range(len(ori_preds)):\n",
    "            out_preds.append(ori_preds[i])\n",
    "#             out_tgts.append(ori_targets[i])\n",
    "\n",
    "        ori_dataset = ori_dataset.append({'Date': '2021-04-26'}, ignore_index=True)\n",
    "        ori_dataset = ori_dataset.append({'Date': '2021-04-27'}, ignore_index=True)\n",
    "        ori_dataset = ori_dataset.append({'Date': '2021-04-28'}, ignore_index=True)\n",
    "        \n",
    "        out_preds_df = pd.DataFrame()\n",
    "        out_preds_df['Date'] = ori_dataset['Date'][3:].values\n",
    "    #     out_preds_df['Date']\n",
    "        out_preds_df['Close'] = out_preds\n",
    "\n",
    "\n",
    "\n",
    "        return out_preds_df\n",
    "    \n",
    "#     my_test(trained_model, test_dataset, train_scaler, f'result_img/cur/{comp}_test_result{\"_sent\" if with_sent else \"\"}.png')\n",
    "#     ori_preds, ori_targets = my_test(trained_model, ori_dataset, train_scaler, f'result_img/cur/{comp}_result{\"_sent\" if with_sent else \"\"}.png')\n",
    "    \n",
    "    pred_df = d2f(output, ori_targets, ori_dataset)\n",
    "    pred_df.to_csv(f'new/{comp}_pred{\"_sent\" if with_sent else \"\"}.csv', index=False)\n",
    "#     tgt_df.to_csv(f'new/{comp}_tgt{\"_sent\" if with_sent else \"\"}.csv', index=False)"
   ]
  },
  {
   "cell_type": "code",
   "execution_count": 139,
   "metadata": {},
   "outputs": [
    {
     "name": "stdout",
     "output_type": "stream",
     "text": [
      "580 585\n",
      "582 577 582\n",
      "           Date       Close\n",
      "0    2019-01-07   39.547813\n",
      "1    2019-01-08   38.638142\n",
      "2    2019-01-09   39.065575\n",
      "3    2019-01-10   39.373646\n",
      "4    2019-01-11   39.694714\n",
      "..          ...         ...\n",
      "577  2021-04-22  132.494476\n",
      "578  2021-04-23  131.830902\n",
      "579  2021-04-26  132.034958\n",
      "580  2021-04-27  133.366013\n",
      "581  2021-04-28  133.601807\n",
      "\n",
      "[582 rows x 2 columns]\n"
     ]
    }
   ],
   "source": [
    "res = pred_test(trained_model, ori_dataset, train_scaler)\n",
    "    \n",
    "output = res['0'] + [res['1'][-1]] + [res['2'][-1]]\n",
    "#     print(comp, res['0'][-9:], res['1'][-1], res['2'][-1])\n",
    "\n",
    "def d2f(ori_preds, ori_targets, ori_dataset):\n",
    "    out_preds = []\n",
    "#         out_tgts = []\n",
    "\n",
    "    print(len(ori_preds), len(ori_targets), len(ori_dataset))\n",
    "    for i in range(len(ori_preds)):\n",
    "        out_preds.append(ori_preds[i])\n",
    "#             out_tgts.append(ori_targets[i])\n",
    "\n",
    "    ori_dataset = ori_dataset.append({'Date': '2021-04-26'}, ignore_index=True)\n",
    "    ori_dataset = ori_dataset.append({'Date': '2021-04-27'}, ignore_index=True)\n",
    "    ori_dataset = ori_dataset.append({'Date': '2021-04-28'}, ignore_index=True)\n",
    "\n",
    "    out_preds_df = pd.DataFrame()\n",
    "    out_preds_df['Date'] = ori_dataset['Date'][3:].values\n",
    "#     out_preds_df['Date']\n",
    "    out_preds_df['Close'] = out_preds\n",
    "\n",
    "    print(out_preds_df)\n",
    "\n",
    "\n",
    "    return out_preds_df\n",
    "\n",
    "#     my_test(trained_model, test_dataset, train_scaler, f'result_img/cur/{comp}_test_result{\"_sent\" if with_sent else \"\"}.png')\n",
    "#     ori_preds, ori_targets = my_test(trained_model, ori_dataset, train_scaler, f'result_img/cur/{comp}_result{\"_sent\" if with_sent else \"\"}.png')\n",
    "\n",
    "pred_df = d2f(output, ori_targets, ori_dataset)\n",
    "pred_df.to_csv(f'new/{comp}_pred{\"_sent\" if with_sent else \"\"}.csv', index=False)"
   ]
  },
  {
   "cell_type": "code",
   "execution_count": 141,
   "metadata": {},
   "outputs": [
    {
     "name": "stdout",
     "output_type": "stream",
     "text": [
      "aapl\n"
     ]
    },
    {
     "name": "stderr",
     "output_type": "stream",
     "text": [
      "C:\\Users\\Liu\\anaconda3\\lib\\site-packages\\ta\\trend.py:768: RuntimeWarning: invalid value encountered in double_scalars\n",
      "  dip[i] = 100 * (self._dip[i] / self._trs[i])\n",
      "C:\\Users\\Liu\\anaconda3\\lib\\site-packages\\ta\\trend.py:772: RuntimeWarning: invalid value encountered in double_scalars\n",
      "  din[i] = 100 * (self._din[i] / self._trs[i])\n"
     ]
    },
    {
     "name": "stdout",
     "output_type": "stream",
     "text": [
      "Epoch: 100, Loss:0.00765\n",
      "Epoch: 200, Loss:0.00534\n",
      "Epoch: 300, Loss:0.00352\n",
      "Epoch: 400, Loss:0.00271\n",
      "Epoch: 500, Loss:0.00245\n",
      "Epoch: 600, Loss:0.00228\n",
      "Epoch: 700, Loss:0.00201\n",
      "580 585\n",
      "582 577 582\n",
      "amzn\n"
     ]
    },
    {
     "name": "stderr",
     "output_type": "stream",
     "text": [
      "C:\\Users\\Liu\\anaconda3\\lib\\site-packages\\ta\\trend.py:768: RuntimeWarning: invalid value encountered in double_scalars\n",
      "  dip[i] = 100 * (self._dip[i] / self._trs[i])\n",
      "C:\\Users\\Liu\\anaconda3\\lib\\site-packages\\ta\\trend.py:772: RuntimeWarning: invalid value encountered in double_scalars\n",
      "  din[i] = 100 * (self._din[i] / self._trs[i])\n"
     ]
    },
    {
     "name": "stdout",
     "output_type": "stream",
     "text": [
      "Epoch: 100, Loss:0.00214\n",
      "Epoch: 200, Loss:0.00195\n",
      "Epoch: 300, Loss:0.00179\n",
      "Epoch: 400, Loss:0.00168\n",
      "Epoch: 500, Loss:0.00157\n",
      "Epoch: 600, Loss:0.00142\n",
      "Epoch: 700, Loss:0.00205\n",
      "580 585\n",
      "582 577 582\n",
      "goog\n"
     ]
    },
    {
     "name": "stderr",
     "output_type": "stream",
     "text": [
      "C:\\Users\\Liu\\anaconda3\\lib\\site-packages\\ta\\trend.py:768: RuntimeWarning: invalid value encountered in double_scalars\n",
      "  dip[i] = 100 * (self._dip[i] / self._trs[i])\n",
      "C:\\Users\\Liu\\anaconda3\\lib\\site-packages\\ta\\trend.py:772: RuntimeWarning: invalid value encountered in double_scalars\n",
      "  din[i] = 100 * (self._din[i] / self._trs[i])\n"
     ]
    },
    {
     "name": "stdout",
     "output_type": "stream",
     "text": [
      "Epoch: 100, Loss:0.00627\n",
      "Epoch: 200, Loss:0.00516\n",
      "Epoch: 300, Loss:0.00486\n",
      "Epoch: 400, Loss:0.00472\n",
      "Epoch: 500, Loss:0.00428\n",
      "Epoch: 600, Loss:0.00314\n",
      "Epoch: 700, Loss:0.00298\n",
      "580 585\n",
      "582 577 582\n",
      "msft\n"
     ]
    },
    {
     "name": "stderr",
     "output_type": "stream",
     "text": [
      "C:\\Users\\Liu\\anaconda3\\lib\\site-packages\\ta\\trend.py:768: RuntimeWarning: invalid value encountered in double_scalars\n",
      "  dip[i] = 100 * (self._dip[i] / self._trs[i])\n",
      "C:\\Users\\Liu\\anaconda3\\lib\\site-packages\\ta\\trend.py:772: RuntimeWarning: invalid value encountered in double_scalars\n",
      "  din[i] = 100 * (self._din[i] / self._trs[i])\n"
     ]
    },
    {
     "name": "stdout",
     "output_type": "stream",
     "text": [
      "Epoch: 100, Loss:0.00495\n",
      "Epoch: 200, Loss:0.00385\n",
      "Epoch: 300, Loss:0.00328\n",
      "Epoch: 400, Loss:0.00277\n",
      "Epoch: 500, Loss:0.00232\n",
      "Epoch: 600, Loss:0.00348\n",
      "Epoch: 700, Loss:0.00211\n",
      "580 585\n",
      "582 577 582\n",
      "nflx\n"
     ]
    },
    {
     "name": "stderr",
     "output_type": "stream",
     "text": [
      "C:\\Users\\Liu\\anaconda3\\lib\\site-packages\\ta\\trend.py:768: RuntimeWarning: invalid value encountered in double_scalars\n",
      "  dip[i] = 100 * (self._dip[i] / self._trs[i])\n",
      "C:\\Users\\Liu\\anaconda3\\lib\\site-packages\\ta\\trend.py:772: RuntimeWarning: invalid value encountered in double_scalars\n",
      "  din[i] = 100 * (self._din[i] / self._trs[i])\n"
     ]
    },
    {
     "name": "stdout",
     "output_type": "stream",
     "text": [
      "Epoch: 100, Loss:0.01902\n",
      "Epoch: 200, Loss:0.01663\n",
      "Epoch: 300, Loss:0.01502\n",
      "Epoch: 400, Loss:0.01429\n",
      "Epoch: 500, Loss:0.01368\n",
      "Epoch: 600, Loss:0.01314\n",
      "Epoch: 700, Loss:0.01270\n",
      "580 585\n",
      "582 577 582\n",
      "tsla\n"
     ]
    },
    {
     "name": "stderr",
     "output_type": "stream",
     "text": [
      "C:\\Users\\Liu\\anaconda3\\lib\\site-packages\\ta\\trend.py:768: RuntimeWarning: invalid value encountered in double_scalars\n",
      "  dip[i] = 100 * (self._dip[i] / self._trs[i])\n",
      "C:\\Users\\Liu\\anaconda3\\lib\\site-packages\\ta\\trend.py:772: RuntimeWarning: invalid value encountered in double_scalars\n",
      "  din[i] = 100 * (self._din[i] / self._trs[i])\n"
     ]
    },
    {
     "name": "stdout",
     "output_type": "stream",
     "text": [
      "Epoch: 100, Loss:0.00081\n",
      "Epoch: 200, Loss:0.00181\n",
      "Epoch: 300, Loss:0.00195\n",
      "Epoch: 400, Loss:0.00173\n",
      "Epoch: 500, Loss:0.00192\n",
      "Epoch: 600, Loss:0.00136\n",
      "Epoch: 700, Loss:0.00132\n",
      "580 585\n",
      "582 577 582\n"
     ]
    }
   ],
   "source": [
    "comps = ['aapl', 'amzn', 'goog', 'msft', 'nflx', 'tsla']\n",
    "\n",
    "for comp in comps:\n",
    "    print(comp)\n",
    "    my_predict(comp, with_sent)"
   ]
  },
  {
   "cell_type": "code",
   "execution_count": null,
   "metadata": {},
   "outputs": [],
   "source": []
  },
  {
   "cell_type": "code",
   "execution_count": 143,
   "metadata": {},
   "outputs": [
    {
     "name": "stdout",
     "output_type": "stream",
     "text": [
      "amzn\n"
     ]
    },
    {
     "name": "stderr",
     "output_type": "stream",
     "text": [
      "C:\\Users\\Liu\\anaconda3\\lib\\site-packages\\ta\\trend.py:768: RuntimeWarning: invalid value encountered in double_scalars\n",
      "  dip[i] = 100 * (self._dip[i] / self._trs[i])\n",
      "C:\\Users\\Liu\\anaconda3\\lib\\site-packages\\ta\\trend.py:772: RuntimeWarning: invalid value encountered in double_scalars\n",
      "  din[i] = 100 * (self._din[i] / self._trs[i])\n"
     ]
    },
    {
     "name": "stdout",
     "output_type": "stream",
     "text": [
      "Epoch: 100, Loss:0.00260\n",
      "Epoch: 200, Loss:0.00221\n",
      "Epoch: 300, Loss:0.00156\n",
      "Epoch: 400, Loss:0.00141\n",
      "Epoch: 500, Loss:0.00134\n",
      "Epoch: 600, Loss:0.00131\n",
      "Epoch: 700, Loss:0.00113\n",
      "580 585\n",
      "582 577 582\n",
      "msft\n"
     ]
    },
    {
     "name": "stderr",
     "output_type": "stream",
     "text": [
      "C:\\Users\\Liu\\anaconda3\\lib\\site-packages\\ta\\trend.py:768: RuntimeWarning: invalid value encountered in double_scalars\n",
      "  dip[i] = 100 * (self._dip[i] / self._trs[i])\n",
      "C:\\Users\\Liu\\anaconda3\\lib\\site-packages\\ta\\trend.py:772: RuntimeWarning: invalid value encountered in double_scalars\n",
      "  din[i] = 100 * (self._din[i] / self._trs[i])\n"
     ]
    },
    {
     "name": "stdout",
     "output_type": "stream",
     "text": [
      "Epoch: 100, Loss:0.00420\n",
      "Epoch: 200, Loss:0.00246\n",
      "Epoch: 300, Loss:0.00186\n",
      "Epoch: 400, Loss:0.00130\n",
      "Epoch: 500, Loss:0.00116\n",
      "Epoch: 600, Loss:0.00133\n",
      "Epoch: 700, Loss:0.00060\n",
      "580 585\n",
      "582 577 582\n"
     ]
    }
   ],
   "source": [
    "comps = ['amzn', 'msft']\n",
    "\n",
    "for comp in comps:\n",
    "    print(comp)\n",
    "    my_predict(comp, with_sent)"
   ]
  },
  {
   "cell_type": "code",
   "execution_count": null,
   "metadata": {},
   "outputs": [],
   "source": []
  },
  {
   "cell_type": "code",
   "execution_count": null,
   "metadata": {},
   "outputs": [],
   "source": []
  },
  {
   "cell_type": "code",
   "execution_count": null,
   "metadata": {},
   "outputs": [],
   "source": []
  },
  {
   "cell_type": "markdown",
   "metadata": {},
   "source": [
    "## try xgboost to select features"
   ]
  },
  {
   "cell_type": "code",
   "execution_count": 15,
   "metadata": {},
   "outputs": [
    {
     "name": "stderr",
     "output_type": "stream",
     "text": [
      "/Users/liu/dsci_560_project/myenv/lib/python3.8/site-packages/ta/trend.py:768: RuntimeWarning: invalid value encountered in double_scalars\n",
      "  dip[i] = 100 * (self._dip[i] / self._trs[i])\n",
      "/Users/liu/dsci_560_project/myenv/lib/python3.8/site-packages/ta/trend.py:772: RuntimeWarning: invalid value encountered in double_scalars\n",
      "  din[i] = 100 * (self._din[i] / self._trs[i])\n"
     ]
    }
   ],
   "source": [
    "import xgboost as xgb\n",
    "import numpy as np\n",
    "import pandas as pd\n",
    "import ta\n",
    "from sklearn.preprocessing import MinMaxScaler\n",
    "from sklearn.model_selection import train_test_split\n",
    "from sklearn.metrics import mean_squared_error\n",
    "\n",
    "TEST_SIZE = 0.3\n",
    "\n",
    "def xgb_load_data(csv_file):\n",
    "    ori_data = pd.read_csv(csv_file)\n",
    "    \n",
    "    extend_data = ta.add_all_ta_features(ori_data, open=\"Open\", high=\"High\", low=\"Low\", close=\"Close\", volume=\"Volume\", fillna=True)\n",
    "    \n",
    "    train_data, test_data = train_test_split(ori_data, test_size=TEST_SIZE, shuffle=False)\n",
    "    return train_data, test_data, ori_data\n",
    "\n",
    "\n",
    "train_data, test_data, ori_data = xgb_load_data('data/AAPL.csv')\n",
    "\n",
    "train_data = train_data.iloc[:, 1:]\n",
    "train_x = train_data.iloc[:-1, 1:]\n",
    "train_y = train_data.iloc[1:, 4].values\n",
    "\n",
    "test_data = test_data.iloc[:, 1:]\n",
    "test_x = test_data.iloc[:-1, 1:]\n",
    "test_y = test_data.iloc[1:, 4].values"
   ]
  },
  {
   "cell_type": "code",
   "execution_count": 20,
   "metadata": {},
   "outputs": [
    {
     "name": "stdout",
     "output_type": "stream",
     "text": [
      "[20:32:52] WARNING: /Users/travis/build/dmlc/xgboost/src/objective/regression_obj.cu:170: reg:linear is now deprecated in favor of reg:squarederror.\n",
      "[0]\terrors-rmse:113.01026\n",
      "[1]\terrors-rmse:104.49601\n",
      "[2]\terrors-rmse:96.74514\n",
      "[3]\terrors-rmse:89.93866\n",
      "[4]\terrors-rmse:83.43624\n",
      "[5]\terrors-rmse:77.58589\n",
      "[6]\terrors-rmse:72.59512\n",
      "[7]\terrors-rmse:66.93047\n",
      "[8]\terrors-rmse:61.83071\n",
      "[9]\terrors-rmse:57.24035\n",
      "[10]\terrors-rmse:53.82044\n",
      "[11]\terrors-rmse:50.03221\n",
      "[12]\terrors-rmse:47.02351\n",
      "[13]\terrors-rmse:44.61453\n",
      "[14]\terrors-rmse:41.83351\n",
      "[15]\terrors-rmse:39.64758\n",
      "[16]\terrors-rmse:37.89893\n",
      "[17]\terrors-rmse:35.71607\n",
      "[18]\terrors-rmse:34.17898\n",
      "[19]\terrors-rmse:32.62237\n",
      "[20]\terrors-rmse:31.00129\n",
      "[21]\terrors-rmse:29.75846\n",
      "[22]\terrors-rmse:28.84347\n",
      "[23]\terrors-rmse:27.81024\n",
      "[24]\terrors-rmse:27.08557\n",
      "[25]\terrors-rmse:26.03073\n",
      "[26]\terrors-rmse:25.52164\n",
      "[27]\terrors-rmse:24.98928\n",
      "[28]\terrors-rmse:24.14652\n",
      "[29]\terrors-rmse:24.00672\n",
      "[30]\terrors-rmse:23.32227\n",
      "[31]\terrors-rmse:22.83166\n",
      "[32]\terrors-rmse:22.27708\n",
      "[33]\terrors-rmse:22.03774\n",
      "[34]\terrors-rmse:21.76071\n",
      "[35]\terrors-rmse:21.58558\n",
      "[36]\terrors-rmse:21.44058\n",
      "[37]\terrors-rmse:21.29920\n",
      "[38]\terrors-rmse:20.89825\n",
      "[39]\terrors-rmse:20.53800\n",
      "[40]\terrors-rmse:20.40887\n",
      "[41]\terrors-rmse:20.29805\n",
      "[42]\terrors-rmse:20.25299\n",
      "[43]\terrors-rmse:20.14807\n",
      "[44]\terrors-rmse:19.97627\n",
      "[45]\terrors-rmse:19.88617\n",
      "[46]\terrors-rmse:19.81503\n",
      "[47]\terrors-rmse:19.71858\n",
      "[48]\terrors-rmse:19.65516\n",
      "[49]\terrors-rmse:19.57081\n",
      "rmse:  19.570804107460436\n"
     ]
    }
   ],
   "source": [
    "data_dmatrix = xgb.DMatrix(data=train_x.values,label=train_y)\n",
    "test_dmatrix = xgb.DMatrix(data=test_x.values,label=test_y)\n",
    "\n",
    "rses = []\n",
    "# for i in range(10):\n",
    "params = {\"objective\":\"reg:linear\",'colsample_bytree': 0.3,'learning_rate': 0.1,\n",
    "            'max_depth': 6, 'alpha': 11, 'tree_method': 'hist', 'lambda': 0.1} \n",
    "xg_reg = xgb.train(params=params, dtrain=data_dmatrix, num_boost_round=50, evals=[(test_dmatrix, 'errors')])\n",
    "te_preds = xg_reg.predict(test_dmatrix)\n",
    "rmse = np.sqrt(mean_squared_error(test_y, te_preds))\n",
    "print('rmse: ', rmse)\n",
    "#     rses.append((pt, rmse))\n",
    "#     print(i, rmse)"
   ]
  },
  {
   "cell_type": "code",
   "execution_count": 26,
   "metadata": {},
   "outputs": [
    {
     "data": {
      "text/plain": [
       "[('f56', 11905.57040405),\n",
       " ('f25', 11737.658460617075),\n",
       " ('f0', 8419.552833158667),\n",
       " ('f41', 4560.65625),\n",
       " ('f3', 3942.2264994197094),\n",
       " ('f18', 3173.453125),\n",
       " ('f1', 2523.9542467499996),\n",
       " ('f31', 1680.225341797),\n",
       " ('f32', 1677.2402850985),\n",
       " ('f24', 1247.86335563),\n",
       " ('f14', 1213.2620371102),\n",
       " ('f16', 767.6363924000001),\n",
       " ('f13', 728.6583794213999),\n",
       " ('f23', 661.4594890025716),\n",
       " ('f2', 556.6516581407724),\n",
       " ('f66', 307.598145),\n",
       " ('f5', 243.39853353891664),\n",
       " ('f87', 205.029135086),\n",
       " ('f42', 180.27246095),\n",
       " ('f57', 76.9911499),\n",
       " ('f17', 64.1914062),\n",
       " ('f59', 39.22134396166667),\n",
       " ('f35', 30.613647484999998),\n",
       " ('f65', 24.076538096666667),\n",
       " ('f27', 14.2793665),\n",
       " ('f51', 12.856872535),\n",
       " ('f44', 11.252526250499999),\n",
       " ('f30', 9.0066628385),\n",
       " ('f43', 6.817631416299999),\n",
       " ('f50', 6.76679612),\n",
       " ('f8', 6.74428557735),\n",
       " ('f78', 6.68048096),\n",
       " ('f7', 6.196217864666667),\n",
       " ('f69', 5.377791885375),\n",
       " ('f46', 5.205932623333333),\n",
       " ('f63', 5.142871976),\n",
       " ('f74', 4.659321122000001),\n",
       " ('f19', 4.3507461549999995),\n",
       " ('f62', 4.13866043),\n",
       " ('f83', 4.0200748454),\n",
       " ('f48', 4.001646998),\n",
       " ('f77', 3.9698791499999997),\n",
       " ('f64', 3.250228881),\n",
       " ('f47', 3.1811865571799998),\n",
       " ('f60', 3.1451416),\n",
       " ('f45', 3.0846455916666664),\n",
       " ('f52', 2.945728301666667),\n",
       " ('f4', 2.8721303925000004),\n",
       " ('f54', 2.75695801),\n",
       " ('f76', 2.7346804920000003),\n",
       " ('f15', 2.72969437),\n",
       " ('f85', 2.6601638786249997),\n",
       " ('f81', 2.3729960126666665),\n",
       " ('f86', 2.287685075716667),\n",
       " ('f58', 2.1719198232499997),\n",
       " ('f34', 1.92126225075),\n",
       " ('f6', 1.8301887499999998),\n",
       " ('f36', 1.8225708),\n",
       " ('f10', 1.72139629575),\n",
       " ('f61', 1.69581032),\n",
       " ('f75', 1.6914272325000002),\n",
       " ('f55', 1.32611993255),\n",
       " ('f80', 1.26615524),\n",
       " ('f73', 1.251152674),\n",
       " ('f84', 1.10131264),\n",
       " ('f26', 1.073678224),\n",
       " ('f9', 1.0690434766666668),\n",
       " ('f79', 1.0109086015),\n",
       " ('f40', 0.867797852),\n",
       " ('f49', 0.787220001),\n",
       " ('f82', 0.744187354),\n",
       " ('f68', 0.666511536),\n",
       " ('f38', 0.36175584764333335),\n",
       " ('f12', 0.28998947135),\n",
       " ('f72', 0.22939885399999999),\n",
       " ('f39', 0.193450928),\n",
       " ('f11', 0.176261812),\n",
       " ('f37', 0.0775299072)]"
      ]
     },
     "execution_count": 26,
     "metadata": {},
     "output_type": "execute_result"
    }
   ],
   "source": [
    "importances = xg_reg.get_score(importance_type='gain')\n",
    "res = sorted(importances.items(), key=lambda x: -x[1])\n",
    "res"
   ]
  },
  {
   "cell_type": "code",
   "execution_count": 30,
   "metadata": {},
   "outputs": [
    {
     "name": "stdout",
     "output_type": "stream",
     "text": [
      "[57, 26, 1, 42, 4, 19, 2, 32, 33, 25, 15, 17, 14, 24, 3, 67, 6, 88, 43, 58, 18, 60, 36, 66, 28]\n"
     ]
    }
   ],
   "source": [
    "features = [int(item[0][1:])+1 for item in res[:25]]\n",
    "print(features)"
   ]
  },
  {
   "cell_type": "code",
   "execution_count": null,
   "metadata": {},
   "outputs": [],
   "source": []
  }
 ],
 "metadata": {
  "kernelspec": {
   "display_name": "Python 3",
   "language": "python",
   "name": "python3"
  },
  "language_info": {
   "codemirror_mode": {
    "name": "ipython",
    "version": 3
   },
   "file_extension": ".py",
   "mimetype": "text/x-python",
   "name": "python",
   "nbconvert_exporter": "python",
   "pygments_lexer": "ipython3",
   "version": "3.8.5"
  }
 },
 "nbformat": 4,
 "nbformat_minor": 5
}
