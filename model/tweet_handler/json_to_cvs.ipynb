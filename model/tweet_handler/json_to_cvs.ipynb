{
 "cells": [
  {
   "cell_type": "code",
   "execution_count": 9,
   "metadata": {},
   "outputs": [],
   "source": [
    "import json\n",
    "import pandas as pd \n",
    "\n",
    "comps = ['aapl', 'amzn', 'goog', 'msft', 'nflx', 'tsla']\n",
    "\n",
    "for comp in comps:\n",
    "    with open(f'{comp}.json', 'r') as f:\n",
    "        data = json.load(f)\n",
    "        res = []\n",
    "        for k, v in data.items():\n",
    "            for item in v:\n",
    "                res.append((k + ' 00:00:00', item))\n",
    "                \n",
    "        pd.DataFrame(res).to_csv(f\"{comp}_tweets.csv\", index=None, header=['time', 'text'])"
   ]
  },
  {
   "cell_type": "code",
   "execution_count": null,
   "metadata": {},
   "outputs": [],
   "source": []
  },
  {
   "cell_type": "code",
   "execution_count": 2,
   "metadata": {},
   "outputs": [],
   "source": [
    "import json\n",
    "\n",
    "with open(f'aapl.json', 'r') as f:\n",
    "    data = json.load(f)"
   ]
  },
  {
   "cell_type": "code",
   "execution_count": 4,
   "metadata": {},
   "outputs": [],
   "source": [
    "\n",
    "res = []\n",
    "for k, v in data.items():\n",
    "    for item in v:\n",
    "        res.append((k + ' 00:00:00', item))"
   ]
  },
  {
   "cell_type": "code",
   "execution_count": 8,
   "metadata": {},
   "outputs": [],
   "source": [
    "import pandas as pd \n",
    "\n",
    "pd.DataFrame(res).to_csv(\"aapl_tweets.csv\", index=None, header=['time', 'text'])"
   ]
  },
  {
   "cell_type": "code",
   "execution_count": 7,
   "metadata": {},
   "outputs": [
    {
     "data": {
      "text/html": [
       "<div>\n",
       "<style scoped>\n",
       "    .dataframe tbody tr th:only-of-type {\n",
       "        vertical-align: middle;\n",
       "    }\n",
       "\n",
       "    .dataframe tbody tr th {\n",
       "        vertical-align: top;\n",
       "    }\n",
       "\n",
       "    .dataframe thead th {\n",
       "        text-align: right;\n",
       "    }\n",
       "</style>\n",
       "<table border=\"1\" class=\"dataframe\">\n",
       "  <thead>\n",
       "    <tr style=\"text-align: right;\">\n",
       "      <th></th>\n",
       "      <th>0</th>\n",
       "      <th>1</th>\n",
       "    </tr>\n",
       "  </thead>\n",
       "  <tbody>\n",
       "    <tr>\n",
       "      <th>0</th>\n",
       "      <td>2020-01-02 00:00:00</td>\n",
       "      <td>In 1998 a GF of mine bought me 30 shares of $A...</td>\n",
       "    </tr>\n",
       "    <tr>\n",
       "      <th>1</th>\n",
       "      <td>2020-01-02 00:00:00</td>\n",
       "      <td>$AAPL BIG #Momma prints 300 + https://t.co/GQ1...</td>\n",
       "    </tr>\n",
       "    <tr>\n",
       "      <th>2</th>\n",
       "      <td>2020-01-02 00:00:00</td>\n",
       "      <td>Apple abre el año con nuevos máximos histórico...</td>\n",
       "    </tr>\n",
       "    <tr>\n",
       "      <th>3</th>\n",
       "      <td>2020-01-02 00:00:00</td>\n",
       "      <td>$AAPL stock is now up 111% over the past 12 mo...</td>\n",
       "    </tr>\n",
       "    <tr>\n",
       "      <th>4</th>\n",
       "      <td>2020-01-02 00:00:00</td>\n",
       "      <td>Made $50K today. Can't complain for beginning ...</td>\n",
       "    </tr>\n",
       "    <tr>\n",
       "      <th>...</th>\n",
       "      <td>...</td>\n",
       "      <td>...</td>\n",
       "    </tr>\n",
       "    <tr>\n",
       "      <th>19781</th>\n",
       "      <td>2021-04-20 00:00:00</td>\n",
       "      <td>Apple $AAPL Likely to Announce Additional $50B...</td>\n",
       "    </tr>\n",
       "    <tr>\n",
       "      <th>19782</th>\n",
       "      <td>2021-04-20 00:00:00</td>\n",
       "      <td>$AAPL Trade Idea\\n\\nEntry: 135\\nStrike: 4/23 1...</td>\n",
       "    </tr>\n",
       "    <tr>\n",
       "      <th>19783</th>\n",
       "      <td>2021-04-20 00:00:00</td>\n",
       "      <td>For those asking why I am planning to remove s...</td>\n",
       "    </tr>\n",
       "    <tr>\n",
       "      <th>19784</th>\n",
       "      <td>2021-04-20 00:00:00</td>\n",
       "      <td>$AAPL is a one trick pony and will end-up like...</td>\n",
       "    </tr>\n",
       "    <tr>\n",
       "      <th>19785</th>\n",
       "      <td>2021-04-20 00:00:00</td>\n",
       "      <td>Evening!\\nIF $SPX breaks $4150, then $4139, $4...</td>\n",
       "    </tr>\n",
       "  </tbody>\n",
       "</table>\n",
       "<p>19786 rows × 2 columns</p>\n",
       "</div>"
      ],
      "text/plain": [
       "                         0                                                  1\n",
       "0      2020-01-02 00:00:00  In 1998 a GF of mine bought me 30 shares of $A...\n",
       "1      2020-01-02 00:00:00  $AAPL BIG #Momma prints 300 + https://t.co/GQ1...\n",
       "2      2020-01-02 00:00:00  Apple abre el año con nuevos máximos histórico...\n",
       "3      2020-01-02 00:00:00  $AAPL stock is now up 111% over the past 12 mo...\n",
       "4      2020-01-02 00:00:00  Made $50K today. Can't complain for beginning ...\n",
       "...                    ...                                                ...\n",
       "19781  2021-04-20 00:00:00  Apple $AAPL Likely to Announce Additional $50B...\n",
       "19782  2021-04-20 00:00:00  $AAPL Trade Idea\\n\\nEntry: 135\\nStrike: 4/23 1...\n",
       "19783  2021-04-20 00:00:00  For those asking why I am planning to remove s...\n",
       "19784  2021-04-20 00:00:00  $AAPL is a one trick pony and will end-up like...\n",
       "19785  2021-04-20 00:00:00  Evening!\\nIF $SPX breaks $4150, then $4139, $4...\n",
       "\n",
       "[19786 rows x 2 columns]"
      ]
     },
     "execution_count": 7,
     "metadata": {},
     "output_type": "execute_result"
    }
   ],
   "source": [
    "df = pd.DataFrame(res)\n"
   ]
  },
  {
   "cell_type": "code",
   "execution_count": null,
   "metadata": {},
   "outputs": [],
   "source": []
  }
 ],
 "metadata": {
  "kernelspec": {
   "display_name": "Python 3",
   "language": "python",
   "name": "python3"
  },
  "language_info": {
   "codemirror_mode": {
    "name": "ipython",
    "version": 3
   },
   "file_extension": ".py",
   "mimetype": "text/x-python",
   "name": "python",
   "nbconvert_exporter": "python",
   "pygments_lexer": "ipython3",
   "version": "3.8.5"
  }
 },
 "nbformat": 4,
 "nbformat_minor": 4
}
