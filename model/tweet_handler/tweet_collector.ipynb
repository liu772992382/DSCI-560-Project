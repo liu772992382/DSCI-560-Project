{
 "cells": [
  {
   "cell_type": "code",
   "execution_count": 1,
   "metadata": {},
   "outputs": [],
   "source": [
    "import requests\n",
    "import json"
   ]
  },
  {
   "cell_type": "code",
   "execution_count": 23,
   "metadata": {},
   "outputs": [],
   "source": [
    "import requests\n",
    "\n",
    "def my_req(start_dt, end_dt, comp):\n",
    "    print(start_dt, end_dt)\n",
    "    \n",
    "    url = f\"https://twitter.com/i/api/2/search/adaptive.json?include_profile_interstitial_type=1&include_blocking=1&include_blocked_by=1&include_followed_by=1&include_want_retweets=1&include_mute_edge=1&include_can_dm=1&include_can_media_tag=1&skip_status=1&cards_platform=Web-12&include_cards=1&include_ext_alt_text=true&include_quote_count=true&include_reply_count=1&tweet_mode=extended&include_entities=true&include_user_entities=true&include_ext_media_color=true&include_ext_media_availability=true&send_error_codes=true&simple_quoted_tweet=true&q=%24{comp}%20min_faves%3A10%20until%3A{end_dt}%20since%3A{start_dt}&%20lang%3Aen&count=100&query_source=typed_query&pc=1&spelling_corrections=1&ext=mediaStats%2ChighlightedLabel\"\n",
    "\n",
    "    payload={}\n",
    "    headers = {\n",
    "      'authority': 'twitter.com',\n",
    "      'sec-ch-ua': '\" Not A;Brand\";v=\"99\", \"Chromium\";v=\"90\", \"Google Chrome\";v=\"90\"',\n",
    "      'x-twitter-client-language': 'en',\n",
    "      'x-csrf-token': '',\n",
    "      'sec-ch-ua-mobile': '?0',\n",
    "      'authorization': '',\n",
    "      'user-agent': 'Mozilla/5.0 (Windows NT 10.0; Win64; x64) AppleWebKit/537.36 (KHTML, like Gecko) Chrome/90.0.4430.72 Safari/537.36',\n",
    "      'x-twitter-auth-type': 'OAuth2Session',\n",
    "      'x-twitter-active-user': 'yes',\n",
    "      'accept': '*/*',\n",
    "      'sec-fetch-site': 'same-origin',\n",
    "      'sec-fetch-mode': 'cors',\n",
    "      'sec-fetch-dest': 'empty',\n",
    "      'referer': 'https://twitter.com/search?q=aapl%20min_faves%3A10%20until%3A2020-01-02%20since%3A2020-01-01&src=typed_query',\n",
    "      'accept-language': 'zh-CN,zh;q=0.9,en;q=0.8',\n",
    "      'cookie': ''\n",
    "    }\n",
    "\n",
    "    response = requests.request(\"GET\", url, headers=headers, data=payload)\n",
    "\n",
    "    #     print(response.status)\n",
    "    data = json.loads(response.text)['globalObjects']['tweets']\n",
    "    data = [data[k]['full_text'] for k in data]\n",
    "    \n",
    "    return data"
   ]
  },
  {
   "cell_type": "code",
   "execution_count": 1,
   "metadata": {},
   "outputs": [
    {
     "ename": "NameError",
     "evalue": "name 'my_req' is not defined",
     "output_type": "error",
     "traceback": [
      "\u001b[1;31m---------------------------------------------------------------------------\u001b[0m",
      "\u001b[1;31mNameError\u001b[0m                                 Traceback (most recent call last)",
      "\u001b[1;32m<ipython-input-1-7fab52ae3adc>\u001b[0m in \u001b[0;36m<module>\u001b[1;34m\u001b[0m\n\u001b[0;32m     14\u001b[0m         \u001b[0me_dt\u001b[0m \u001b[1;33m=\u001b[0m \u001b[0mdatetime\u001b[0m\u001b[1;33m.\u001b[0m\u001b[0mdatetime\u001b[0m\u001b[1;33m.\u001b[0m\u001b[0mstrftime\u001b[0m\u001b[1;33m(\u001b[0m\u001b[0mend_dt\u001b[0m\u001b[1;33m,\u001b[0m \u001b[1;34m'%Y-%m-%d'\u001b[0m\u001b[1;33m)\u001b[0m\u001b[1;33m\u001b[0m\u001b[1;33m\u001b[0m\u001b[0m\n\u001b[0;32m     15\u001b[0m \u001b[1;33m\u001b[0m\u001b[0m\n\u001b[1;32m---> 16\u001b[1;33m         \u001b[0mres\u001b[0m \u001b[1;33m=\u001b[0m \u001b[0mmy_req\u001b[0m\u001b[1;33m(\u001b[0m\u001b[0ms_dt\u001b[0m\u001b[1;33m,\u001b[0m \u001b[0me_dt\u001b[0m\u001b[1;33m,\u001b[0m \u001b[0mcomp\u001b[0m\u001b[1;33m)\u001b[0m\u001b[1;33m\u001b[0m\u001b[1;33m\u001b[0m\u001b[0m\n\u001b[0m\u001b[0;32m     17\u001b[0m         \u001b[0mprint\u001b[0m\u001b[1;33m(\u001b[0m\u001b[0mlen\u001b[0m\u001b[1;33m(\u001b[0m\u001b[0mres\u001b[0m\u001b[1;33m)\u001b[0m\u001b[1;33m)\u001b[0m\u001b[1;33m\u001b[0m\u001b[1;33m\u001b[0m\u001b[0m\n\u001b[0;32m     18\u001b[0m         \u001b[0mdata\u001b[0m\u001b[1;33m[\u001b[0m\u001b[0ms_dt\u001b[0m\u001b[1;33m]\u001b[0m \u001b[1;33m=\u001b[0m \u001b[0mres\u001b[0m\u001b[1;33m\u001b[0m\u001b[1;33m\u001b[0m\u001b[0m\n",
      "\u001b[1;31mNameError\u001b[0m: name 'my_req' is not defined"
     ]
    }
   ],
   "source": [
    "import datetime\n",
    "\n",
    "comps = ['aapl', 'amzn', 'goog', 'msft', 'nflx', 'tsla']\n",
    "for comp in comps:\n",
    "    data = {}\n",
    "#     comp = 'amzn'\n",
    "    start_dt = datetime.datetime.strptime('2020-01-01', \"%Y-%m-%d\")\n",
    "    for i in range(475):\n",
    "\n",
    "        start_dt = start_dt + datetime.timedelta(days=1)\n",
    "        end_dt = start_dt + datetime.timedelta(days=1)\n",
    "\n",
    "        s_dt = datetime.datetime.strftime(start_dt, '%Y-%m-%d')\n",
    "        e_dt = datetime.datetime.strftime(end_dt, '%Y-%m-%d')\n",
    "\n",
    "        res = my_req(s_dt, e_dt, comp)\n",
    "        print(len(res))\n",
    "        data[s_dt] = res\n",
    "\n",
    "    with open(f'{comp}.json', 'w') as f:\n",
    "        json.dump(data, f)"
   ]
  },
  {
   "cell_type": "code",
   "execution_count": null,
   "metadata": {},
   "outputs": [],
   "source": []
  },
  {
   "cell_type": "code",
   "execution_count": null,
   "metadata": {},
   "outputs": [],
   "source": []
  }
 ],
 "metadata": {
  "kernelspec": {
   "display_name": "Python 3",
   "language": "python",
   "name": "python3"
  },
  "language_info": {
   "codemirror_mode": {
    "name": "ipython",
    "version": 3
   },
   "file_extension": ".py",
   "mimetype": "text/x-python",
   "name": "python",
   "nbconvert_exporter": "python",
   "pygments_lexer": "ipython3",
   "version": "3.8.5"
  }
 },
 "nbformat": 4,
 "nbformat_minor": 4
}
